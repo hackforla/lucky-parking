{
 "cells": [
  {
   "cell_type": "code",
   "execution_count": 1,
   "metadata": {},
   "outputs": [],
   "source": [
    "import pandas as pd\n",
    "import numpy as np\n",
    "import matplotlib.pyplot as plt\n",
    "from google.colab import drive\n",
    "drive.mount('/content/gdrive')"
   ]
  },
  {
   "cell_type": "code",
   "execution_count": 4,
   "metadata": {},
   "outputs": [],
   "source": [
    "df = pd.read_csv(\n",
    "    '/content/gdrive/Shareddrives/Lucky Parking Drive/Lucky Parking Folder/Data/2022-06-03_processed_10samp.csv')\n",
    "df.datetime = pd.to_datetime(df.datetime, format='%Y-%m-%d %H:%M:%S')"
   ]
  },
  {
   "cell_type": "code",
   "execution_count": 175,
   "metadata": {},
   "outputs": [],
   "source": [
    "weekday_dict =         {\n",
    "            0: \"Monday\",\n",
    "            1: \"Tuesday\",\n",
    "            2: \"Wednesday\",\n",
    "            3: \"Thursday\",\n",
    "            4: \"Friday\",\n",
    "            5: \"Saturday\",\n",
    "            6: \"Sunday\",\n",
    "        }\n",
    "\n",
    "hr_dict =         {\n",
    "            0: '12 AM',\n",
    "            1: \"1 AM\",\n",
    "            2: \"2 AM\",\n",
    "            3: \"3 AM\",\n",
    "            4: \"4 AM\",\n",
    "            5: \"5 AM\",\n",
    "            6: \"6 AM\",\n",
    "            7: \"7 AM\",\n",
    "            8: \"8 AM\",\n",
    "            9: \"9 AM\",\n",
    "            10: \"10 AM\",\n",
    "            11: \"11 AM\",\n",
    "            12: \"12 PM\",\n",
    "            13: \"1 PM\",\n",
    "            14: \"2 PM\",\n",
    "            15: \"3 PM\",\n",
    "            16: \"4 PM\",\n",
    "            17: \"5 PM\",\n",
    "            18: \"6 PM\",\n",
    "            19: \"7 PM\",\n",
    "            20: \"8 PM\",\n",
    "            21: \"9 PM\",\n",
    "            22: \"10 PM\",\n",
    "            23: \"11 PM\",\n",
    "        }"
   ]
  },
  {
   "cell_type": "code",
   "execution_count": null,
   "metadata": {},
   "outputs": [],
   "source": [
    "location = 33.9953799,-118.478934,\n",
    "radius = 0.0005\n",
    "num_violations = 5\n",
    "\n",
    "local_citations = df[(df.latitude.between(location[0]-radius, location[0]+radius)) & (df.longitude.between(location[1]-radius, location[1]+radius))]\n",
    "top_local_citations = local_citations.violation_description.value_counts()[:num_violations]\n",
    "regulations = []\n",
    "for citation_type in top_local_citations.index:\n",
    "    filtered = local_citations[local_citations.violation_description == citation_type]\n",
    "    regulations.append([sorted(filtered.datetime.dt.weekday.value_counts().index.to_list()), sorted(filtered.datetime.dt.hour.value_counts().index.to_list())])\n",
    "readable_regs = []\n",
    "for reg in regulations:\n",
    "    readable_regs.append(weekday_dict[reg[0][0]] + ' - ' + weekday_dict[reg[0][-1]] + ', ' + hr_dict[reg[1][0]] + ' - ' + hr_dict[reg[1][-1]])\n",
    "reg_extract = top_local_citations.copy().reset_index(drop=False)\n",
    "reg_extract.columns = ['violation', 'count']\n",
    "reg_extract['regulations'] = readable_regs\n",
    "reg_extract"
   ]
  },
  {
   "cell_type": "code",
   "execution_count": null,
   "metadata": {},
   "outputs": [],
   "source": []
  }
 ],
 "metadata": {
  "kernelspec": {
   "display_name": "Python 3.10.4 ('citation-analysis')",
   "language": "python",
   "name": "python3"
  },
  "language_info": {
   "codemirror_mode": {
    "name": "ipython",
    "version": 3
   },
   "file_extension": ".py",
   "mimetype": "text/x-python",
   "name": "python",
   "nbconvert_exporter": "python",
   "pygments_lexer": "ipython3",
   "version": "3.10.4"
  },
  "orig_nbformat": 4,
  "vscode": {
   "interpreter": {
    "hash": "fbf0156e8a2da8644910b29cafe295a11f3590a9ab1bf5238566f80c764bc99f"
   }
  }
 },
 "nbformat": 4,
 "nbformat_minor": 2
}
