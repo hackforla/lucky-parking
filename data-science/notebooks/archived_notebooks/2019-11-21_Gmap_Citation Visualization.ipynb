{
 "cells": [
  {
   "cell_type": "code",
   "execution_count": 1,
   "metadata": {
    "colab": {},
    "colab_type": "code",
    "id": "5DQ0zA5l-YN7",
    "outputId": "94f17e06-e356-4008-96b1-94c469f5213e"
   },
   "outputs": [],
   "source": [
    "import pandas as pd\n",
    "import numpy as np\n",
    "import matplotlib.pyplot as plt\n",
    "import gmaps\n",
    "import pyproj\n",
    "# from pyproj import Proj, transform"
   ]
  },
  {
   "cell_type": "code",
   "execution_count": 2,
   "metadata": {
    "colab": {},
    "colab_type": "code",
    "id": "dYPYj4V6-YOB"
   },
   "outputs": [],
   "source": [
    "gmaps.configure(api_key='') # Fill in with your API key"
   ]
  },
  {
   "cell_type": "code",
   "execution_count": 3,
   "metadata": {
    "colab": {},
    "colab_type": "code",
    "id": "ob_cad6C-YOF",
    "outputId": "050ff9af-6a19-42d8-9569-17742bee0d51"
   },
   "outputs": [
    {
     "data": {
      "text/html": [
       "<div>\n",
       "<style scoped>\n",
       "    .dataframe tbody tr th:only-of-type {\n",
       "        vertical-align: middle;\n",
       "    }\n",
       "\n",
       "    .dataframe tbody tr th {\n",
       "        vertical-align: top;\n",
       "    }\n",
       "\n",
       "    .dataframe thead th {\n",
       "        text-align: right;\n",
       "    }\n",
       "</style>\n",
       "<table border=\"1\" class=\"dataframe\">\n",
       "  <thead>\n",
       "    <tr style=\"text-align: right;\">\n",
       "      <th></th>\n",
       "      <th>Unnamed: 0</th>\n",
       "      <th>Ticket number</th>\n",
       "      <th>Issue Date</th>\n",
       "      <th>Issue time</th>\n",
       "      <th>Meter Id</th>\n",
       "      <th>Marked Time</th>\n",
       "      <th>RP State Plate</th>\n",
       "      <th>VIN</th>\n",
       "      <th>Make</th>\n",
       "      <th>Body Style</th>\n",
       "      <th>Color</th>\n",
       "      <th>Location</th>\n",
       "      <th>Route</th>\n",
       "      <th>Agency</th>\n",
       "      <th>Violation code</th>\n",
       "      <th>Violation Description</th>\n",
       "      <th>Fine amount</th>\n",
       "      <th>Latitude</th>\n",
       "      <th>Longitude</th>\n",
       "    </tr>\n",
       "  </thead>\n",
       "  <tbody>\n",
       "    <tr>\n",
       "      <th>0</th>\n",
       "      <td>28</td>\n",
       "      <td>4361326712</td>\n",
       "      <td>2019/09/17 12:00:00 AM</td>\n",
       "      <td>1205.0</td>\n",
       "      <td>NaN</td>\n",
       "      <td>NaN</td>\n",
       "      <td>CA</td>\n",
       "      <td>NaN</td>\n",
       "      <td>TOYT</td>\n",
       "      <td>PA</td>\n",
       "      <td>GY</td>\n",
       "      <td>309 WINDWARD AVE</td>\n",
       "      <td>00163</td>\n",
       "      <td>51.0</td>\n",
       "      <td>80.69BS</td>\n",
       "      <td>NO PARK/STREET CLEAN</td>\n",
       "      <td>73.0</td>\n",
       "      <td>6.419487e+06</td>\n",
       "      <td>1.818861e+06</td>\n",
       "    </tr>\n",
       "    <tr>\n",
       "      <th>1</th>\n",
       "      <td>112</td>\n",
       "      <td>4361286823</td>\n",
       "      <td>2019/09/17 12:00:00 AM</td>\n",
       "      <td>853.0</td>\n",
       "      <td>NaN</td>\n",
       "      <td>NaN</td>\n",
       "      <td>CA</td>\n",
       "      <td>NaN</td>\n",
       "      <td>TOYT</td>\n",
       "      <td>PA</td>\n",
       "      <td>WT</td>\n",
       "      <td>934 84TH ST W</td>\n",
       "      <td>00553</td>\n",
       "      <td>55.0</td>\n",
       "      <td>80.69BS</td>\n",
       "      <td>NO PARK/STREET CLEAN</td>\n",
       "      <td>73.0</td>\n",
       "      <td>6.473690e+06</td>\n",
       "      <td>1.808839e+06</td>\n",
       "    </tr>\n",
       "    <tr>\n",
       "      <th>2</th>\n",
       "      <td>224</td>\n",
       "      <td>4361159515</td>\n",
       "      <td>2019/09/17 12:00:00 AM</td>\n",
       "      <td>833.0</td>\n",
       "      <td>NaN</td>\n",
       "      <td>NaN</td>\n",
       "      <td>CA</td>\n",
       "      <td>NaN</td>\n",
       "      <td>NISS</td>\n",
       "      <td>PA</td>\n",
       "      <td>WT</td>\n",
       "      <td>2601 MONMOUTH AVE</td>\n",
       "      <td>00536</td>\n",
       "      <td>55.0</td>\n",
       "      <td>80.69BS</td>\n",
       "      <td>NO PARK/STREET CLEAN</td>\n",
       "      <td>73.0</td>\n",
       "      <td>6.475329e+06</td>\n",
       "      <td>1.834194e+06</td>\n",
       "    </tr>\n",
       "    <tr>\n",
       "      <th>3</th>\n",
       "      <td>473</td>\n",
       "      <td>4361237226</td>\n",
       "      <td>2019/09/17 12:00:00 AM</td>\n",
       "      <td>1015.0</td>\n",
       "      <td>NaN</td>\n",
       "      <td>NaN</td>\n",
       "      <td>CA</td>\n",
       "      <td>NaN</td>\n",
       "      <td>HOND</td>\n",
       "      <td>PA</td>\n",
       "      <td>RD</td>\n",
       "      <td>615 HAMPTON DR</td>\n",
       "      <td>00133</td>\n",
       "      <td>51.0</td>\n",
       "      <td>80.69BS</td>\n",
       "      <td>NO PARK/STREET CLEAN</td>\n",
       "      <td>73.0</td>\n",
       "      <td>6.417752e+06</td>\n",
       "      <td>1.820642e+06</td>\n",
       "    </tr>\n",
       "    <tr>\n",
       "      <th>4</th>\n",
       "      <td>592</td>\n",
       "      <td>4360129196</td>\n",
       "      <td>2019/09/17 12:00:00 AM</td>\n",
       "      <td>1007.0</td>\n",
       "      <td>NaN</td>\n",
       "      <td>NaN</td>\n",
       "      <td>CA</td>\n",
       "      <td>NaN</td>\n",
       "      <td>VOLV</td>\n",
       "      <td>PA</td>\n",
       "      <td>SL</td>\n",
       "      <td>1346 MCCADDEN PL N</td>\n",
       "      <td>00487</td>\n",
       "      <td>54.0</td>\n",
       "      <td>80.69BS</td>\n",
       "      <td>NO PARK/STREET CLEAN</td>\n",
       "      <td>73.0</td>\n",
       "      <td>6.459495e+06</td>\n",
       "      <td>1.857205e+06</td>\n",
       "    </tr>\n",
       "    <tr>\n",
       "      <th>5</th>\n",
       "      <td>618</td>\n",
       "      <td>4360059804</td>\n",
       "      <td>2019/09/17 12:00:00 AM</td>\n",
       "      <td>1032.0</td>\n",
       "      <td>NaN</td>\n",
       "      <td>NaN</td>\n",
       "      <td>CA</td>\n",
       "      <td>NaN</td>\n",
       "      <td>CHEV</td>\n",
       "      <td>PA</td>\n",
       "      <td>BK</td>\n",
       "      <td>250 CORONADO ST S</td>\n",
       "      <td>00452</td>\n",
       "      <td>54.0</td>\n",
       "      <td>80.69BS</td>\n",
       "      <td>NO PARK/STREET CLEAN</td>\n",
       "      <td>73.0</td>\n",
       "      <td>6.478569e+06</td>\n",
       "      <td>1.848477e+06</td>\n",
       "    </tr>\n",
       "    <tr>\n",
       "      <th>6</th>\n",
       "      <td>679</td>\n",
       "      <td>4359986643</td>\n",
       "      <td>2019/09/17 12:00:00 AM</td>\n",
       "      <td>1054.0</td>\n",
       "      <td>NaN</td>\n",
       "      <td>NaN</td>\n",
       "      <td>CA</td>\n",
       "      <td>NaN</td>\n",
       "      <td>HOND</td>\n",
       "      <td>PA</td>\n",
       "      <td>WT</td>\n",
       "      <td>15211 KITTRIDGE ST</td>\n",
       "      <td>350A</td>\n",
       "      <td>53.0</td>\n",
       "      <td>80.69BS</td>\n",
       "      <td>NO PARK/STREET CLEAN</td>\n",
       "      <td>73.0</td>\n",
       "      <td>6.421280e+06</td>\n",
       "      <td>1.891956e+06</td>\n",
       "    </tr>\n",
       "    <tr>\n",
       "      <th>7</th>\n",
       "      <td>694</td>\n",
       "      <td>4359985136</td>\n",
       "      <td>2019/09/17 12:00:00 AM</td>\n",
       "      <td>1057.0</td>\n",
       "      <td>NaN</td>\n",
       "      <td>NaN</td>\n",
       "      <td>CA</td>\n",
       "      <td>NaN</td>\n",
       "      <td>TOYT</td>\n",
       "      <td>PA</td>\n",
       "      <td>BL</td>\n",
       "      <td>2131 CANYON DR</td>\n",
       "      <td>00402</td>\n",
       "      <td>54.0</td>\n",
       "      <td>80.73.2</td>\n",
       "      <td>EXCEED 72HRS-ST</td>\n",
       "      <td>68.0</td>\n",
       "      <td>6.465731e+06</td>\n",
       "      <td>1.862324e+06</td>\n",
       "    </tr>\n",
       "    <tr>\n",
       "      <th>8</th>\n",
       "      <td>824</td>\n",
       "      <td>4359867912</td>\n",
       "      <td>2019/09/17 12:00:00 AM</td>\n",
       "      <td>1028.0</td>\n",
       "      <td>NaN</td>\n",
       "      <td>NaN</td>\n",
       "      <td>CA</td>\n",
       "      <td>NaN</td>\n",
       "      <td>MERC</td>\n",
       "      <td>PA</td>\n",
       "      <td>SL</td>\n",
       "      <td>1222 POINT VIEW ST</td>\n",
       "      <td>00143</td>\n",
       "      <td>51.0</td>\n",
       "      <td>80.69BS</td>\n",
       "      <td>NO PARK/STREET CLEAN</td>\n",
       "      <td>73.0</td>\n",
       "      <td>6.449820e+06</td>\n",
       "      <td>1.842157e+06</td>\n",
       "    </tr>\n",
       "    <tr>\n",
       "      <th>9</th>\n",
       "      <td>897</td>\n",
       "      <td>4359725355</td>\n",
       "      <td>2019/09/17 12:00:00 AM</td>\n",
       "      <td>138.0</td>\n",
       "      <td>NaN</td>\n",
       "      <td>NaN</td>\n",
       "      <td>CA</td>\n",
       "      <td>NaN</td>\n",
       "      <td>JEEP</td>\n",
       "      <td>PA</td>\n",
       "      <td>GY</td>\n",
       "      <td>1000 39TH ST W</td>\n",
       "      <td>00500</td>\n",
       "      <td>55.0</td>\n",
       "      <td>80.56E4+</td>\n",
       "      <td>RED ZONE</td>\n",
       "      <td>93.0</td>\n",
       "      <td>6.473318e+06</td>\n",
       "      <td>1.828144e+06</td>\n",
       "    </tr>\n",
       "  </tbody>\n",
       "</table>\n",
       "</div>"
      ],
      "text/plain": [
       "   Unnamed: 0  Ticket number              Issue Date  Issue time Meter Id  \\\n",
       "0          28     4361326712  2019/09/17 12:00:00 AM      1205.0      NaN   \n",
       "1         112     4361286823  2019/09/17 12:00:00 AM       853.0      NaN   \n",
       "2         224     4361159515  2019/09/17 12:00:00 AM       833.0      NaN   \n",
       "3         473     4361237226  2019/09/17 12:00:00 AM      1015.0      NaN   \n",
       "4         592     4360129196  2019/09/17 12:00:00 AM      1007.0      NaN   \n",
       "5         618     4360059804  2019/09/17 12:00:00 AM      1032.0      NaN   \n",
       "6         679     4359986643  2019/09/17 12:00:00 AM      1054.0      NaN   \n",
       "7         694     4359985136  2019/09/17 12:00:00 AM      1057.0      NaN   \n",
       "8         824     4359867912  2019/09/17 12:00:00 AM      1028.0      NaN   \n",
       "9         897     4359725355  2019/09/17 12:00:00 AM       138.0      NaN   \n",
       "\n",
       "   Marked Time RP State Plate  VIN  Make Body Style Color            Location  \\\n",
       "0          NaN             CA  NaN  TOYT         PA    GY    309 WINDWARD AVE   \n",
       "1          NaN             CA  NaN  TOYT         PA    WT       934 84TH ST W   \n",
       "2          NaN             CA  NaN  NISS         PA    WT   2601 MONMOUTH AVE   \n",
       "3          NaN             CA  NaN  HOND         PA    RD      615 HAMPTON DR   \n",
       "4          NaN             CA  NaN  VOLV         PA    SL  1346 MCCADDEN PL N   \n",
       "5          NaN             CA  NaN  CHEV         PA    BK   250 CORONADO ST S   \n",
       "6          NaN             CA  NaN  HOND         PA    WT  15211 KITTRIDGE ST   \n",
       "7          NaN             CA  NaN  TOYT         PA    BL      2131 CANYON DR   \n",
       "8          NaN             CA  NaN  MERC         PA    SL  1222 POINT VIEW ST   \n",
       "9          NaN             CA  NaN  JEEP         PA    GY      1000 39TH ST W   \n",
       "\n",
       "   Route  Agency Violation code Violation Description  Fine amount  \\\n",
       "0  00163    51.0        80.69BS  NO PARK/STREET CLEAN         73.0   \n",
       "1  00553    55.0        80.69BS  NO PARK/STREET CLEAN         73.0   \n",
       "2  00536    55.0        80.69BS  NO PARK/STREET CLEAN         73.0   \n",
       "3  00133    51.0        80.69BS  NO PARK/STREET CLEAN         73.0   \n",
       "4  00487    54.0        80.69BS  NO PARK/STREET CLEAN         73.0   \n",
       "5  00452    54.0        80.69BS  NO PARK/STREET CLEAN         73.0   \n",
       "6   350A    53.0        80.69BS  NO PARK/STREET CLEAN         73.0   \n",
       "7  00402    54.0        80.73.2       EXCEED 72HRS-ST         68.0   \n",
       "8  00143    51.0        80.69BS  NO PARK/STREET CLEAN         73.0   \n",
       "9  00500    55.0       80.56E4+              RED ZONE         93.0   \n",
       "\n",
       "       Latitude     Longitude  \n",
       "0  6.419487e+06  1.818861e+06  \n",
       "1  6.473690e+06  1.808839e+06  \n",
       "2  6.475329e+06  1.834194e+06  \n",
       "3  6.417752e+06  1.820642e+06  \n",
       "4  6.459495e+06  1.857205e+06  \n",
       "5  6.478569e+06  1.848477e+06  \n",
       "6  6.421280e+06  1.891956e+06  \n",
       "7  6.465731e+06  1.862324e+06  \n",
       "8  6.449820e+06  1.842157e+06  \n",
       "9  6.473318e+06  1.828144e+06  "
      ]
     },
     "execution_count": 3,
     "metadata": {},
     "output_type": "execute_result"
    }
   ],
   "source": [
    "# Load Sampled Data\n",
    "df=pd.read_csv(\"Simplified_Citation_After_2015July_to_2019.csv\",low_memory=False)\n",
    "df.head(10)"
   ]
  },
  {
   "cell_type": "code",
   "execution_count": 4,
   "metadata": {},
   "outputs": [
    {
     "data": {
      "text/plain": [
       "9.999900e+04    11416\n",
       "1.819688e+06       98\n",
       "1.859071e+06       87\n",
       "1.882602e+06       64\n",
       "1.849114e+06       49\n",
       "                ...  \n",
       "1.843271e+06        1\n",
       "1.845315e+06        1\n",
       "1.909664e+06        1\n",
       "1.835485e+06        1\n",
       "1.857892e+06        1\n",
       "Name: Longitude, Length: 50929, dtype: int64"
      ]
     },
     "execution_count": 4,
     "metadata": {},
     "output_type": "execute_result"
    }
   ],
   "source": [
    "df['Longitude'].value_counts()"
   ]
  },
  {
   "cell_type": "code",
   "execution_count": 5,
   "metadata": {},
   "outputs": [
    {
     "data": {
      "text/plain": [
       "0.13038810334193754"
      ]
     },
     "execution_count": 5,
     "metadata": {},
     "output_type": "execute_result"
    }
   ],
   "source": [
    "len(df[(df['Latitude'] == 99999) | (df['Longitude'] == 99999)])/len(df)"
   ]
  },
  {
   "cell_type": "code",
   "execution_count": 6,
   "metadata": {
    "colab": {},
    "colab_type": "code",
    "id": "GjElThpd-YOH",
    "outputId": "704721d8-6a0b-42da-ebd8-bf015b09beb6"
   },
   "outputs": [],
   "source": [
    "df_cleaned = df[(df['Latitude'] != 99999) | (df['Longitude'] != 99999)].copy()"
   ]
  },
  {
   "cell_type": "code",
   "execution_count": 7,
   "metadata": {},
   "outputs": [
    {
     "data": {
      "text/html": [
       "<div>\n",
       "<style scoped>\n",
       "    .dataframe tbody tr th:only-of-type {\n",
       "        vertical-align: middle;\n",
       "    }\n",
       "\n",
       "    .dataframe tbody tr th {\n",
       "        vertical-align: top;\n",
       "    }\n",
       "\n",
       "    .dataframe thead th {\n",
       "        text-align: right;\n",
       "    }\n",
       "</style>\n",
       "<table border=\"1\" class=\"dataframe\">\n",
       "  <thead>\n",
       "    <tr style=\"text-align: right;\">\n",
       "      <th></th>\n",
       "      <th>Latitude</th>\n",
       "      <th>Longitude</th>\n",
       "    </tr>\n",
       "  </thead>\n",
       "  <tbody>\n",
       "    <tr>\n",
       "      <th>count</th>\n",
       "      <td>7.613800e+04</td>\n",
       "      <td>7.613800e+04</td>\n",
       "    </tr>\n",
       "    <tr>\n",
       "      <th>mean</th>\n",
       "      <td>6.455758e+06</td>\n",
       "      <td>1.848533e+06</td>\n",
       "    </tr>\n",
       "    <tr>\n",
       "      <th>std</th>\n",
       "      <td>2.734972e+04</td>\n",
       "      <td>2.866901e+04</td>\n",
       "    </tr>\n",
       "    <tr>\n",
       "      <th>min</th>\n",
       "      <td>6.360390e+06</td>\n",
       "      <td>1.715644e+06</td>\n",
       "    </tr>\n",
       "    <tr>\n",
       "      <th>25%</th>\n",
       "      <td>6.431560e+06</td>\n",
       "      <td>1.837057e+06</td>\n",
       "    </tr>\n",
       "    <tr>\n",
       "      <th>50%</th>\n",
       "      <td>6.458808e+06</td>\n",
       "      <td>1.845113e+06</td>\n",
       "    </tr>\n",
       "    <tr>\n",
       "      <th>75%</th>\n",
       "      <td>6.478079e+06</td>\n",
       "      <td>1.859516e+06</td>\n",
       "    </tr>\n",
       "    <tr>\n",
       "      <th>max</th>\n",
       "      <td>6.513150e+06</td>\n",
       "      <td>1.941866e+06</td>\n",
       "    </tr>\n",
       "  </tbody>\n",
       "</table>\n",
       "</div>"
      ],
      "text/plain": [
       "           Latitude     Longitude\n",
       "count  7.613800e+04  7.613800e+04\n",
       "mean   6.455758e+06  1.848533e+06\n",
       "std    2.734972e+04  2.866901e+04\n",
       "min    6.360390e+06  1.715644e+06\n",
       "25%    6.431560e+06  1.837057e+06\n",
       "50%    6.458808e+06  1.845113e+06\n",
       "75%    6.478079e+06  1.859516e+06\n",
       "max    6.513150e+06  1.941866e+06"
      ]
     },
     "execution_count": 7,
     "metadata": {},
     "output_type": "execute_result"
    }
   ],
   "source": [
    "df_cleaned[['Latitude', 'Longitude']].describe()"
   ]
  },
  {
   "cell_type": "code",
   "execution_count": 8,
   "metadata": {},
   "outputs": [
    {
     "name": "stdout",
     "output_type": "stream",
     "text": [
      "<class 'pandas.core.frame.DataFrame'>\n",
      "Int64Index: 76138 entries, 0 to 87553\n",
      "Data columns (total 19 columns):\n",
      " #   Column                 Non-Null Count  Dtype  \n",
      "---  ------                 --------------  -----  \n",
      " 0   Unnamed: 0             76138 non-null  int64  \n",
      " 1   Ticket number          76138 non-null  int64  \n",
      " 2   Issue Date             76138 non-null  object \n",
      " 3   Issue time             76127 non-null  float64\n",
      " 4   Meter Id               21218 non-null  object \n",
      " 5   Marked Time            2556 non-null   float64\n",
      " 6   RP State Plate         76137 non-null  object \n",
      " 7   VIN                    0 non-null      float64\n",
      " 8   Make                   76107 non-null  object \n",
      " 9   Body Style             76098 non-null  object \n",
      " 10  Color                  76126 non-null  object \n",
      " 11  Location               76138 non-null  object \n",
      " 12  Route                  75807 non-null  object \n",
      " 13  Agency                 76138 non-null  float64\n",
      " 14  Violation code         76138 non-null  object \n",
      " 15  Violation Description  76136 non-null  object \n",
      " 16  Fine amount            76115 non-null  float64\n",
      " 17  Latitude               76138 non-null  float64\n",
      " 18  Longitude              76138 non-null  float64\n",
      "dtypes: float64(7), int64(2), object(10)\n",
      "memory usage: 11.6+ MB\n"
     ]
    }
   ],
   "source": [
    "df_cleaned.info()"
   ]
  },
  {
   "cell_type": "code",
   "execution_count": 47,
   "metadata": {
    "colab": {},
    "colab_type": "code",
    "id": "WpRA-puY-YOM",
    "outputId": "7bd451c6-2de6-4ee5-9a71-4a269383b2ca"
   },
   "outputs": [],
   "source": [
    "inProj = Proj('epsg:2229', preserve_units=True) # make sure unit preserve \n",
    "outProj = Proj('epsg:4326')\n",
    "y_1,x_1 = transform(inProj,outProj,df_cleaned[\"Latitude\"].values,df_cleaned[\"Longitude\"].values)"
   ]
  },
  {
   "cell_type": "code",
   "execution_count": 49,
   "metadata": {},
   "outputs": [
    {
     "data": {
      "text/html": [
       "<div>\n",
       "<style scoped>\n",
       "    .dataframe tbody tr th:only-of-type {\n",
       "        vertical-align: middle;\n",
       "    }\n",
       "\n",
       "    .dataframe tbody tr th {\n",
       "        vertical-align: top;\n",
       "    }\n",
       "\n",
       "    .dataframe thead th {\n",
       "        text-align: right;\n",
       "    }\n",
       "</style>\n",
       "<table border=\"1\" class=\"dataframe\">\n",
       "  <thead>\n",
       "    <tr style=\"text-align: right;\">\n",
       "      <th></th>\n",
       "      <th>Unnamed: 0</th>\n",
       "      <th>Ticket number</th>\n",
       "      <th>Issue Date</th>\n",
       "      <th>Issue time</th>\n",
       "      <th>Meter Id</th>\n",
       "      <th>Marked Time</th>\n",
       "      <th>RP State Plate</th>\n",
       "      <th>VIN</th>\n",
       "      <th>Make</th>\n",
       "      <th>Body Style</th>\n",
       "      <th>...</th>\n",
       "      <th>Location</th>\n",
       "      <th>Route</th>\n",
       "      <th>Agency</th>\n",
       "      <th>Violation code</th>\n",
       "      <th>Violation Description</th>\n",
       "      <th>Fine amount</th>\n",
       "      <th>Latitude</th>\n",
       "      <th>Longitude</th>\n",
       "      <th>Longitude_converted</th>\n",
       "      <th>Latitude_converted</th>\n",
       "    </tr>\n",
       "  </thead>\n",
       "  <tbody>\n",
       "    <tr>\n",
       "      <th>0</th>\n",
       "      <td>28</td>\n",
       "      <td>4361326712</td>\n",
       "      <td>2019/09/17 12:00:00 AM</td>\n",
       "      <td>1205.0</td>\n",
       "      <td>NaN</td>\n",
       "      <td>NaN</td>\n",
       "      <td>CA</td>\n",
       "      <td>NaN</td>\n",
       "      <td>TOYT</td>\n",
       "      <td>PA</td>\n",
       "      <td>...</td>\n",
       "      <td>309 WINDWARD AVE</td>\n",
       "      <td>00163</td>\n",
       "      <td>51.0</td>\n",
       "      <td>80.69BS</td>\n",
       "      <td>NO PARK/STREET CLEAN</td>\n",
       "      <td>73.0</td>\n",
       "      <td>6.419487e+06</td>\n",
       "      <td>1.818861e+06</td>\n",
       "      <td>-136.225808</td>\n",
       "      <td>45.373964</td>\n",
       "    </tr>\n",
       "    <tr>\n",
       "      <th>1</th>\n",
       "      <td>112</td>\n",
       "      <td>4361286823</td>\n",
       "      <td>2019/09/17 12:00:00 AM</td>\n",
       "      <td>853.0</td>\n",
       "      <td>NaN</td>\n",
       "      <td>NaN</td>\n",
       "      <td>CA</td>\n",
       "      <td>NaN</td>\n",
       "      <td>TOYT</td>\n",
       "      <td>PA</td>\n",
       "      <td>...</td>\n",
       "      <td>934 84TH ST W</td>\n",
       "      <td>00553</td>\n",
       "      <td>55.0</td>\n",
       "      <td>80.69BS</td>\n",
       "      <td>NO PARK/STREET CLEAN</td>\n",
       "      <td>73.0</td>\n",
       "      <td>6.473690e+06</td>\n",
       "      <td>1.808839e+06</td>\n",
       "      <td>-136.300985</td>\n",
       "      <td>45.512650</td>\n",
       "    </tr>\n",
       "    <tr>\n",
       "      <th>2</th>\n",
       "      <td>224</td>\n",
       "      <td>4361159515</td>\n",
       "      <td>2019/09/17 12:00:00 AM</td>\n",
       "      <td>833.0</td>\n",
       "      <td>NaN</td>\n",
       "      <td>NaN</td>\n",
       "      <td>CA</td>\n",
       "      <td>NaN</td>\n",
       "      <td>NISS</td>\n",
       "      <td>PA</td>\n",
       "      <td>...</td>\n",
       "      <td>2601 MONMOUTH AVE</td>\n",
       "      <td>00536</td>\n",
       "      <td>55.0</td>\n",
       "      <td>80.69BS</td>\n",
       "      <td>NO PARK/STREET CLEAN</td>\n",
       "      <td>73.0</td>\n",
       "      <td>6.475329e+06</td>\n",
       "      <td>1.834194e+06</td>\n",
       "      <td>-136.206612</td>\n",
       "      <td>45.529318</td>\n",
       "    </tr>\n",
       "    <tr>\n",
       "      <th>3</th>\n",
       "      <td>473</td>\n",
       "      <td>4361237226</td>\n",
       "      <td>2019/09/17 12:00:00 AM</td>\n",
       "      <td>1015.0</td>\n",
       "      <td>NaN</td>\n",
       "      <td>NaN</td>\n",
       "      <td>CA</td>\n",
       "      <td>NaN</td>\n",
       "      <td>HOND</td>\n",
       "      <td>PA</td>\n",
       "      <td>...</td>\n",
       "      <td>615 HAMPTON DR</td>\n",
       "      <td>00133</td>\n",
       "      <td>51.0</td>\n",
       "      <td>80.69BS</td>\n",
       "      <td>NO PARK/STREET CLEAN</td>\n",
       "      <td>73.0</td>\n",
       "      <td>6.417752e+06</td>\n",
       "      <td>1.820642e+06</td>\n",
       "      <td>-136.217917</td>\n",
       "      <td>45.370232</td>\n",
       "    </tr>\n",
       "    <tr>\n",
       "      <th>4</th>\n",
       "      <td>592</td>\n",
       "      <td>4360129196</td>\n",
       "      <td>2019/09/17 12:00:00 AM</td>\n",
       "      <td>1007.0</td>\n",
       "      <td>NaN</td>\n",
       "      <td>NaN</td>\n",
       "      <td>CA</td>\n",
       "      <td>NaN</td>\n",
       "      <td>VOLV</td>\n",
       "      <td>PA</td>\n",
       "      <td>...</td>\n",
       "      <td>1346 MCCADDEN PL N</td>\n",
       "      <td>00487</td>\n",
       "      <td>54.0</td>\n",
       "      <td>80.69BS</td>\n",
       "      <td>NO PARK/STREET CLEAN</td>\n",
       "      <td>73.0</td>\n",
       "      <td>6.459495e+06</td>\n",
       "      <td>1.857205e+06</td>\n",
       "      <td>-136.109033</td>\n",
       "      <td>45.498513</td>\n",
       "    </tr>\n",
       "  </tbody>\n",
       "</table>\n",
       "<p>5 rows × 21 columns</p>\n",
       "</div>"
      ],
      "text/plain": [
       "   Unnamed: 0  Ticket number              Issue Date  Issue time Meter Id  \\\n",
       "0          28     4361326712  2019/09/17 12:00:00 AM      1205.0      NaN   \n",
       "1         112     4361286823  2019/09/17 12:00:00 AM       853.0      NaN   \n",
       "2         224     4361159515  2019/09/17 12:00:00 AM       833.0      NaN   \n",
       "3         473     4361237226  2019/09/17 12:00:00 AM      1015.0      NaN   \n",
       "4         592     4360129196  2019/09/17 12:00:00 AM      1007.0      NaN   \n",
       "\n",
       "   Marked Time RP State Plate  VIN  Make Body Style  ...            Location  \\\n",
       "0          NaN             CA  NaN  TOYT         PA  ...    309 WINDWARD AVE   \n",
       "1          NaN             CA  NaN  TOYT         PA  ...       934 84TH ST W   \n",
       "2          NaN             CA  NaN  NISS         PA  ...   2601 MONMOUTH AVE   \n",
       "3          NaN             CA  NaN  HOND         PA  ...      615 HAMPTON DR   \n",
       "4          NaN             CA  NaN  VOLV         PA  ...  1346 MCCADDEN PL N   \n",
       "\n",
       "   Route Agency  Violation code Violation Description Fine amount  \\\n",
       "0  00163   51.0         80.69BS  NO PARK/STREET CLEAN        73.0   \n",
       "1  00553   55.0         80.69BS  NO PARK/STREET CLEAN        73.0   \n",
       "2  00536   55.0         80.69BS  NO PARK/STREET CLEAN        73.0   \n",
       "3  00133   51.0         80.69BS  NO PARK/STREET CLEAN        73.0   \n",
       "4  00487   54.0         80.69BS  NO PARK/STREET CLEAN        73.0   \n",
       "\n",
       "       Latitude     Longitude  Longitude_converted  Latitude_converted  \n",
       "0  6.419487e+06  1.818861e+06          -136.225808           45.373964  \n",
       "1  6.473690e+06  1.808839e+06          -136.300985           45.512650  \n",
       "2  6.475329e+06  1.834194e+06          -136.206612           45.529318  \n",
       "3  6.417752e+06  1.820642e+06          -136.217917           45.370232  \n",
       "4  6.459495e+06  1.857205e+06          -136.109033           45.498513  \n",
       "\n",
       "[5 rows x 21 columns]"
      ]
     },
     "execution_count": 49,
     "metadata": {},
     "output_type": "execute_result"
    }
   ],
   "source": [
    "df_cleaned[\"Latitude_converted\"] = y_1\n",
    "df_cleaned[\"Longitude_converted\"] = x_1\n",
    "df_cleaned.head()"
   ]
  },
  {
   "cell_type": "code",
   "execution_count": 50,
   "metadata": {
    "colab": {},
    "colab_type": "code",
    "id": "XW3ERJmz-YOO",
    "outputId": "84f2f612-3a24-464a-da30-7d89e75a85ac"
   },
   "outputs": [
    {
     "data": {
      "text/plain": [
       "Unnamed: 0                   0\n",
       "Ticket number                0\n",
       "Issue Date                   0\n",
       "Issue time                  11\n",
       "Meter Id                 54920\n",
       "Marked Time              73582\n",
       "RP State Plate               1\n",
       "VIN                      76138\n",
       "Make                        31\n",
       "Body Style                  40\n",
       "Color                       12\n",
       "Location                     0\n",
       "Route                      331\n",
       "Agency                       0\n",
       "Violation code               0\n",
       "Violation Description        2\n",
       "Fine amount                 23\n",
       "Latitude                     0\n",
       "Longitude                    0\n",
       "Longitude_converted          0\n",
       "Latitude_converted           0\n",
       "dtype: int64"
      ]
     },
     "execution_count": 50,
     "metadata": {},
     "output_type": "execute_result"
    }
   ],
   "source": [
    "df_cleaned.isnull().sum()\n"
   ]
  },
  {
   "cell_type": "code",
   "execution_count": 52,
   "metadata": {
    "colab": {},
    "colab_type": "code",
    "id": "1vV0jldO-YOQ",
    "outputId": "5e5fc550-107d-4872-d4fb-324f97d097af"
   },
   "outputs": [
    {
     "name": "stdout",
     "output_type": "stream",
     "text": [
      "<class 'pandas.core.frame.DataFrame'>\n",
      "Int64Index: 76138 entries, 0 to 87553\n",
      "Data columns (total 21 columns):\n",
      " #   Column                 Non-Null Count  Dtype  \n",
      "---  ------                 --------------  -----  \n",
      " 0   Unnamed: 0             76138 non-null  int64  \n",
      " 1   Ticket number          76138 non-null  int64  \n",
      " 2   Issue Date             76138 non-null  object \n",
      " 3   Issue time             76127 non-null  float64\n",
      " 4   Meter Id               21218 non-null  object \n",
      " 5   Marked Time            2556 non-null   float64\n",
      " 6   RP State Plate         76137 non-null  object \n",
      " 7   VIN                    0 non-null      float64\n",
      " 8   Make                   76107 non-null  object \n",
      " 9   Body Style             76098 non-null  object \n",
      " 10  Color                  76126 non-null  object \n",
      " 11  Location               76138 non-null  object \n",
      " 12  Route                  75807 non-null  object \n",
      " 13  Agency                 76138 non-null  float64\n",
      " 14  Violation code         76138 non-null  object \n",
      " 15  Violation Description  76136 non-null  object \n",
      " 16  Fine amount            76115 non-null  float64\n",
      " 17  Latitude               76138 non-null  float64\n",
      " 18  Longitude              76138 non-null  float64\n",
      " 19  Longitude_converted    76138 non-null  float64\n",
      " 20  Latitude_converted     76138 non-null  float64\n",
      "dtypes: float64(9), int64(2), object(10)\n",
      "memory usage: 12.8+ MB\n"
     ]
    }
   ],
   "source": [
    "df_cleaned.info()"
   ]
  },
  {
   "cell_type": "code",
   "execution_count": null,
   "metadata": {
    "colab": {},
    "colab_type": "code",
    "id": "GbQGPIl--YOV",
    "outputId": "07663fdf-d704-4a48-80f8-3b69a014b4fa"
   },
   "outputs": [
    {
     "name": "stdout",
     "output_type": "stream",
     "text": [
      "<class 'pandas.core.frame.DataFrame'>\n",
      "Int64Index: 6782765 entries, 0 to 7570560\n",
      "Data columns (total 20 columns):\n",
      "Ticket number            object\n",
      "Issue Date               object\n",
      "Issue time               float64\n",
      "Meter Id                 object\n",
      "Marked Time              float64\n",
      "RP State Plate           object\n",
      "VIN                      float64\n",
      "Make                     object\n",
      "Body Style               object\n",
      "Color                    object\n",
      "Location                 object\n",
      "Route                    object\n",
      "Agency                   float64\n",
      "Violation code           object\n",
      "Violation Description    object\n",
      "Fine amount              object\n",
      "Latitude                 float64\n",
      "Longitude                float64\n",
      "Latitude_1               float64\n",
      "Longitude_1              float64\n",
      "dtypes: float64(8), object(12)\n",
      "memory usage: 1.1+ GB\n"
     ]
    }
   ],
   "source": [
    "df.info()"
   ]
  },
  {
   "cell_type": "code",
   "execution_count": null,
   "metadata": {
    "colab": {
     "referenced_widgets": [
      "ec7c91458b564d5586e82797421574cc"
     ]
    },
    "colab_type": "code",
    "id": "kVfkxBR3-YOX",
    "outputId": "34096f89-5d24-4f89-8805-68409391609b"
   },
   "outputs": [
    {
     "data": {
      "application/vnd.jupyter.widget-view+json": {
       "model_id": "ec7c91458b564d5586e82797421574cc",
       "version_major": 2,
       "version_minor": 0
      },
      "text/plain": [
       "Figure(layout=FigureLayout(height='420px'))"
      ]
     },
     "metadata": {
      "tags": []
     },
     "output_type": "display_data"
    }
   ],
   "source": [
    "#gmaps.configure(api_key='')\n",
    "#df = df[(df[\"Violation Description\"] == \"NO PARK/STREET CLEAN\") | (df[\"Violation Description\"] == \"METER EXP.\")]\n",
    "#locations = df.iloc[:100][[\"Latitude_1\",\"Longitude_1\"]]\n",
    "#fig = gmaps.figure()\n",
    "#fig.add_layer(gmaps.heatmap_layer(locations))\n",
    "#fig"
   ]
  },
  {
   "cell_type": "code",
   "execution_count": null,
   "metadata": {
    "colab": {
     "referenced_widgets": [
      "9ea4502eb54445b6ac3153a847b7e914"
     ]
    },
    "colab_type": "code",
    "id": "8MmVcbax-YOZ",
    "outputId": "f3e72533-f7ec-4656-c131-f80beddcaef4"
   },
   "outputs": [
    {
     "data": {
      "application/vnd.jupyter.widget-view+json": {
       "model_id": "9ea4502eb54445b6ac3153a847b7e914",
       "version_major": 2,
       "version_minor": 0
      },
      "text/plain": [
       "Figure(layout=FigureLayout(height='420px'))"
      ]
     },
     "metadata": {
      "tags": []
     },
     "output_type": "display_data"
    }
   ],
   "source": [
    "#gmaps.configure(api_key='') \n",
    "#locations = df.iloc[:1000000][[\"Latitude_1\",\"Longitude_1\"]]\n",
    "#fig = gmaps.figure()\n",
    "#fig.add_layer(gmaps.heatmap_layer(locations))\n",
    "#fig"
   ]
  },
  {
   "cell_type": "code",
   "execution_count": null,
   "metadata": {
    "colab": {
     "referenced_widgets": [
      "1f75f273ebac474f93549da0b092a008"
     ]
    },
    "colab_type": "code",
    "id": "b2DlrVEM-YOc",
    "outputId": "a1a19bd1-3472-4c9f-8b1c-9e7ee6f4732c"
   },
   "outputs": [
    {
     "name": "stderr",
     "output_type": "stream",
     "text": [
      "C:\\ProgramData\\Anaconda3\\lib\\site-packages\\ipykernel_launcher.py:3: UserWarning: Boolean Series key will be reindexed to match DataFrame index.\n",
      "  This is separate from the ipykernel package so we can avoid doing imports until\n"
     ]
    },
    {
     "data": {
      "application/vnd.jupyter.widget-view+json": {
       "model_id": "1f75f273ebac474f93549da0b092a008",
       "version_major": 2,
       "version_minor": 0
      },
      "text/plain": [
       "Figure(layout=FigureLayout(height='420px'))"
      ]
     },
     "metadata": {
      "tags": []
     },
     "output_type": "display_data"
    }
   ],
   "source": [
    "'''gmaps.configure(api_key='')\n",
    "issue_time_morning = (df[\"Issue time\"] > 800) & (df[\"Issue time\"] < 1200)\n",
    "few_data = df[issue_time_morning][df[\"Violation Description\"] == \"RED ZONE\"]\n",
    "locations = few_data.ilo[:10000][[\"Latitude_1\",\"Longitude_1\"]]\n",
    "fig = gmaps.figure()\n",
    "layer = gmaps.symbol_layer(locations, fill_color = \"red\", stroke_color = \"red\", scale = 1)\n",
    "fig.add_layer(layer)\n",
    "fig'''"
   ]
  },
  {
   "cell_type": "code",
   "execution_count": null,
   "metadata": {
    "colab": {
     "base_uri": "https://localhost:8080/",
     "height": 235
    },
    "colab_type": "code",
    "executionInfo": {
     "elapsed": 746,
     "status": "error",
     "timestamp": 1574642096463,
     "user": {
      "displayName": "Breeze Xue",
      "photoUrl": "https://lh3.googleusercontent.com/a-/AAuE7mDpH4wU40i-AU6-gaxSBTdqSwTe6zlSJHGtsxyRmQ=s64",
      "userId": "15814150923860763227"
     },
     "user_tz": 480
    },
    "id": "0VYisFMY-YOe",
    "outputId": "0fcb3fd6-4b26-4462-b08e-5f6665df001b"
   },
   "outputs": [],
   "source": [
    "#picked 100000 samples since my computer cannot process more data than that \n",
    "gmaps.configure(api_key='') # type in your own API \n",
    "morning_time = (df[\"Issue time\"] > 600) & (df[\"Issue time\"] <= 1200) & (df.iloc[:100000][\"Violation Description\"] == \"RED ZONE\")\n",
    "morning_time_df = df[morning_time][[\"Latitude_1\",\"Longitude_1\"]]\n",
    "\n",
    "afternoon_time = (df[\"Issue time\"] > 1200) & (df[\"Issue time\"] <= 1800) & (df.iloc[:100000][\"Violation Description\"] == \"RED ZONE\")\n",
    "afternoon_time_df = df[afternoon_time][[\"Latitude_1\",\"Longitude_1\"]]\n",
    "\n",
    "evening_time = (df[\"Issue time\"] > 1800)  & (df.iloc[:100000][\"Violation Description\"] == \"RED ZONE\")\n",
    "evening_time_df = df[evening_time][[\"Latitude_1\",\"Longitude_1\"]]\n",
    "\n",
    "fig = gmaps.figure()\n",
    "morning_layer = gmaps.symbol_layer(morning_time_df, fill_color = \"red\", stroke_color = \"red\", scale = 1)\n",
    "afternoon_layer = gmaps.symbol_layer(afternoon_time_df, fill_color = \"green\", stroke_color = \"green\", scale = 1)\n",
    "evening_layer = gmaps.symbol_layer(evening_time_df, fill_color = \"blue\", stroke_color = \"blue\", scale = 1)\n",
    "fig.add_layer(morning_layer)\n",
    "fig.add_layer(afternoon_layer)\n",
    "fig.add_layer(evening_layer)\n",
    "fig"
   ]
  },
  {
   "cell_type": "code",
   "execution_count": 59,
   "metadata": {},
   "outputs": [
    {
     "data": {
      "application/vnd.jupyter.widget-view+json": {
       "model_id": "77687bbbf2f540bea804767073647c83",
       "version_major": 2,
       "version_minor": 0
      },
      "text/plain": [
       "Figure(layout=FigureLayout(height='420px'))"
      ]
     },
     "metadata": {},
     "output_type": "display_data"
    }
   ],
   "source": [
    "#picked 100000 samples since my computer cannot process more data than that \n",
    "gmaps.configure(api_key='') # type in your own API \n",
    "morning_time = (df_cleaned[\"Issue time\"] > 600) & (df_cleaned[\"Issue time\"] <= 1200) & (df_cleaned.iloc[:100000][\"Violation Description\"] == \"RED ZONE\")\n",
    "morning_time_df = df_cleaned[morning_time][[\"Latitude_converted\",\"Longitude_converted\"]]\n",
    "\n",
    "afternoon_time = (df_cleaned[\"Issue time\"] > 1200) & (df_cleaned[\"Issue time\"] <= 1800) & (df_cleaned.iloc[:100000][\"Violation Description\"] == \"RED ZONE\")\n",
    "afternoon_time_df = df_cleaned[afternoon_time][[\"Latitude_converted\",\"Longitude_converted\"]]\n",
    "\n",
    "evening_time = (df_cleaned[\"Issue time\"] > 1800)  & (df_cleaned.iloc[:100000][\"Violation Description\"] == \"RED ZONE\")\n",
    "evening_time_df = df_cleaned[evening_time][[\"Latitude_converted\",\"Longitude_converted\"]]\n",
    "\n",
    "fig = gmaps.figure()\n",
    "morning_layer = gmaps.symbol_layer(morning_time_df, fill_color = \"red\", stroke_color = \"red\", scale = 1)\n",
    "afternoon_layer = gmaps.symbol_layer(afternoon_time_df, fill_color = \"green\", stroke_color = \"green\", scale = 1)\n",
    "evening_layer = gmaps.symbol_layer(evening_time_df, fill_color = \"blue\", stroke_color = \"blue\", scale = 1)\n",
    "fig.add_layer(morning_layer)\n",
    "fig.add_layer(afternoon_layer)\n",
    "fig.add_layer(evening_layer)\n",
    "fig\n"
   ]
  },
  {
   "cell_type": "code",
   "execution_count": 58,
   "metadata": {
    "colab": {},
    "colab_type": "code",
    "id": "ZlZaT_G--YOg"
   },
   "outputs": [
    {
     "name": "stdout",
     "output_type": "stream",
     "text": [
      "Using matplotlib backend: Qt5Agg\n"
     ]
    }
   ],
   "source": [
    "%matplotlib "
   ]
  },
  {
   "cell_type": "code",
   "execution_count": null,
   "metadata": {},
   "outputs": [],
   "source": []
  }
 ],
 "metadata": {
  "colab": {
   "collapsed_sections": [],
   "name": "2019-11-21_Gmap_Citation Visualization.ipynb",
   "provenance": []
  },
  "kernelspec": {
   "display_name": "Python 3",
   "language": "python",
   "name": "python3"
  },
  "language_info": {
   "codemirror_mode": {
    "name": "ipython",
    "version": 3
   },
   "file_extension": ".py",
   "mimetype": "text/x-python",
   "name": "python",
   "nbconvert_exporter": "python",
   "pygments_lexer": "ipython3",
   "version": "3.7.6"
  }
 },
 "nbformat": 4,
 "nbformat_minor": 4
}