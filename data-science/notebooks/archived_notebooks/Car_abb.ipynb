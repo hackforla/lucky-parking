{
 "cells": [
  {
   "cell_type": "code",
   "execution_count": 4,
   "metadata": {},
   "outputs": [],
   "source": [
    "import pandas as pd\n",
    "import numpy as np\n",
    "import matplotlib.pyplot as plt\n",
    "import re"
   ]
  },
  {
   "cell_type": "code",
   "execution_count": 2,
   "metadata": {},
   "outputs": [],
   "source": [
    "with open('car_abb.txt') as f:\n",
    "    car_abbr_raw = f.readlines()"
   ]
  },
  {
   "cell_type": "code",
   "execution_count": 25,
   "metadata": {},
   "outputs": [
    {
     "ename": "NameError",
     "evalue": "name 'car_abb' is not defined",
     "output_type": "error",
     "traceback": [
      "\u001b[0;31m---------------------------------------------------------------------------\u001b[0m",
      "\u001b[0;31mNameError\u001b[0m                                 Traceback (most recent call last)",
      "\u001b[0;32m<ipython-input-25-86a76e69484c>\u001b[0m in \u001b[0;36m<module>\u001b[0;34m\u001b[0m\n\u001b[0;32m----> 1\u001b[0;31m \u001b[0mcar_abb\u001b[0m\u001b[0;34m.\u001b[0m\u001b[0mtxt\u001b[0m\u001b[0;34m\u001b[0m\u001b[0;34m\u001b[0m\u001b[0m\n\u001b[0m",
      "\u001b[0;31mNameError\u001b[0m: name 'car_abb' is not defined"
     ]
    }
   ],
   "source": [
    "car_abb.txt"
   ]
  },
  {
   "cell_type": "code",
   "execution_count": 15,
   "metadata": {},
   "outputs": [
    {
     "data": {
      "text/plain": [
       "'ACURA................................ACURFERRARI............................FERRMINI.....................................MNNIALFA ROMEO.....................ALFAFIAT....................................FIATMITSUBISHI........................MITSALL STATE.........................ALLSFISKER...............................FSKRMONARCH..........................MONAAMBASSADOR...................AMERFORD..................................FORDMORGAN............................MORGAMERICAN.........................AMERFORMERLY YUGO.............ZCZYMORRIS..............................MORRASSEMBLED......................ASVEFRAZIER.............................FRAZNASH..................................NASHASTON-MARTIN.................ASTOGEO....................................GEONISSAN...............................NISSAUBURN.............................AUBUGMC....................................GMCOLDSMOBILE.....................OLDSAUDI....................................AUDIHILLMAN.............................HILLOPEL...................................OPELAUSTIN...............................AUSTHOMEMADE.......................HMDEPACKARD...........................PACKAUSTIN-HEALY..................AUHEHONDA...............................HONDPEUGEOT...........................PEUGAUTOCAR...........................AUTOHUDSON.............................HUDSPIERCE ARROW................PRCAAVANTI...............................AVTIHUMMER............................AMGNPININFARINA.....................PINIBENTLEY............................BENTHUMMER 3+.......................HUMMPLYMOUTH........................PLYMBERTONE...........................BEROHYUNDAI............................HYUNPONTIAC............................PONTBMW...................................BMWIMPERIAL...........................IMPEPORSCHE..........................PORSBRADLEY GT.....................BRDLINFINITI...............................INFIRAM....................................RAMBRICKLIN............................BRICINTL HARVESTER.............INTLRAMBLER...........................RAMBBUGATTI.............................BUGAISETTA................................ISETRELIANT.............................RELABUICK.................................BUICISUZU.................................ISURENAULT...........................RENACADILLAC...........................CADIJAGUAR..............................JAGUROLLS-ROYCE..................ROLCAPRI.................................CAPJEEP...................................JEEPROOTES.............................ROOTCHECKER...........................CHECJENSEN..............................JENSROVER...............................ROVCHEVROLET......................CHEVKAISER...............................KAISSAAB...................................SAACHRYSLER.........................CHRYKIA......................................KIASATURN.............................STRNCITROEN............................CITRLA SALLE............................LALLSHELBY..............................SHEBCONCORD..........................CONCLADA...................................LADASHOPMADE........................SHOPCONDOR............................CONHLAMBORGHINI...................LAMOSIATA..................................SIATCONTINENTAL...................LINCLANCIA...............................LNCISIMCA.................................SIMCROSLEY...........................CROSLAND ROVER.....................LNDRSMART................................SMRTDAEWOO............................DAEWLEXUS................................LEXSSTERLING..........................STLGDAIHATSU..........................DAIHLINCOLN.............................LINCSTUDEBAKER....................STUDAIMLER............................DAIMLINCOLN-CONT.................LINCSTUTZ.................................STUZDATSUN.............................DATSLOTUS................................LOTUSUBARU.............................SUBADAYTONA...........................DAYOMASERATI..........................MASESUNBEAM..........................SUNBDE LOREAN.......................DELOMATADOR..........................AMERSUZUKI...............................SUZIDE SOTO............................DESOMAXWELL...........................MAXLTOYOTA.............................TOYTDE TOMASO.......................DETOMAZDA................................MAZDTRIUMPH............................TRIUDODGE...............................DODGMERCEDES-BENZ.............MERZVAUXHALL.........................VAUXDUESENBERG...................DUESMERCURY..........................MERCVESPA................................VESPEAGLE(AUTO)....................EGILMERKUR.............................MERKVOLKSWAGEN...................VOLKEDSEL................................EDSEMETROPOLITAN................METRVOLVO................................VOLVESSEX................................ESSEMG......................................MG\\n'"
      ]
     },
     "execution_count": 15,
     "metadata": {},
     "output_type": "execute_result"
    }
   ],
   "source": [
    "car_abbr_raw[0]"
   ]
  },
  {
   "cell_type": "code",
   "execution_count": null,
   "metadata": {},
   "outputs": [],
   "source": []
  }
 ],
 "metadata": {
  "kernelspec": {
   "display_name": "Python 3",
   "language": "python",
   "name": "python3"
  },
  "language_info": {
   "codemirror_mode": {
    "name": "ipython",
    "version": 3
   },
   "file_extension": ".py",
   "mimetype": "text/x-python",
   "name": "python",
   "nbconvert_exporter": "python",
   "pygments_lexer": "ipython3",
   "version": "3.7.6"
  }
 },
 "nbformat": 4,
 "nbformat_minor": 4
}
