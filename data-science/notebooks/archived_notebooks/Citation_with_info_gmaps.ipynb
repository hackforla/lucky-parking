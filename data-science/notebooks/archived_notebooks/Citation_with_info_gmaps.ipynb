{
 "cells": [
  {
   "cell_type": "code",
   "execution_count": 1,
   "metadata": {},
   "outputs": [],
   "source": [
    "import pandas as pd\n",
    "import numpy as np\n",
    "import gmaps\n",
    "import geopandas as gpd\n",
    "import matplotlib.pyplot as plt\n",
    "\n",
    "# Input google maps API key here\n",
    "gmaps.configure(api_key='')"
   ]
  },
  {
   "cell_type": "code",
   "execution_count": 2,
   "metadata": {},
   "outputs": [],
   "source": [
    "# Read file into dataframe\n",
    "df = pd.read_csv('Coordinates Converted_Simplified Citation After 2015 July to 2019.csv')\n",
    "# Turn Lat,Lon into tuple\n",
    "df['Coordinates'] = (list(zip(df.Latitude, df.Longitude)))\n",
    "# Remove index\n",
    "del df['Unnamed: 0']\n",
    "# Rename columns\n",
    "df.columns =  ['Issue_Date', 'Issue_time', 'Location', 'Violation_Description', 'Day_of_Week',\n",
    "       'Latitude', 'Longitude', 'Coordinates']\n",
    "# Time padding function\n",
    "def time_padding(time):\n",
    "    time = str(int(time))\n",
    "    return '0'*(4-len(time)) + time\n",
    "# Apply padding to Issue_time\n",
    "df['Issue_time'] = df['Issue_time'].apply(time_padding)\n",
    "# Creating combined Datetime column\n",
    "df['Datetime'] = pd.to_datetime(df['Issue_Date'] + ' ' + df['Issue_time'], format='%Y-%m-%d %H%M')"
   ]
  },
  {
   "cell_type": "code",
   "execution_count": 3,
   "metadata": {},
   "outputs": [
    {
     "data": {
      "text/html": [
       "<div>\n",
       "<style scoped>\n",
       "    .dataframe tbody tr th:only-of-type {\n",
       "        vertical-align: middle;\n",
       "    }\n",
       "\n",
       "    .dataframe tbody tr th {\n",
       "        vertical-align: top;\n",
       "    }\n",
       "\n",
       "    .dataframe thead th {\n",
       "        text-align: right;\n",
       "    }\n",
       "</style>\n",
       "<table border=\"1\" class=\"dataframe\">\n",
       "  <thead>\n",
       "    <tr style=\"text-align: right;\">\n",
       "      <th></th>\n",
       "      <th>Issue_Date</th>\n",
       "      <th>Issue_time</th>\n",
       "      <th>Location</th>\n",
       "      <th>Violation_Description</th>\n",
       "      <th>Day_of_Week</th>\n",
       "      <th>Latitude</th>\n",
       "      <th>Longitude</th>\n",
       "      <th>Coordinates</th>\n",
       "      <th>Datetime</th>\n",
       "    </tr>\n",
       "  </thead>\n",
       "  <tbody>\n",
       "    <tr>\n",
       "      <th>0</th>\n",
       "      <td>2019-09-17</td>\n",
       "      <td>1205</td>\n",
       "      <td>309 WINDWARD AVE</td>\n",
       "      <td>NO PARK/STREET CLEAN</td>\n",
       "      <td>Tuesday</td>\n",
       "      <td>33.989412</td>\n",
       "      <td>-118.469024</td>\n",
       "      <td>(33.98941160114757, -118.46902420083059)</td>\n",
       "      <td>2019-09-17 12:05:00</td>\n",
       "    </tr>\n",
       "    <tr>\n",
       "      <th>1</th>\n",
       "      <td>2019-09-17</td>\n",
       "      <td>0853</td>\n",
       "      <td>934 84TH ST W</td>\n",
       "      <td>NO PARK/STREET CLEAN</td>\n",
       "      <td>Tuesday</td>\n",
       "      <td>33.962435</td>\n",
       "      <td>-118.290126</td>\n",
       "      <td>(33.962435471869014, -118.29012557695592)</td>\n",
       "      <td>2019-09-17 08:53:00</td>\n",
       "    </tr>\n",
       "    <tr>\n",
       "      <th>2</th>\n",
       "      <td>2019-09-17</td>\n",
       "      <td>0833</td>\n",
       "      <td>2601 MONMOUTH AVE</td>\n",
       "      <td>NO PARK/STREET CLEAN</td>\n",
       "      <td>Tuesday</td>\n",
       "      <td>34.032120</td>\n",
       "      <td>-118.284957</td>\n",
       "      <td>(34.03211999723245, -118.28495700168608)</td>\n",
       "      <td>2019-09-17 08:33:00</td>\n",
       "    </tr>\n",
       "    <tr>\n",
       "      <th>3</th>\n",
       "      <td>2019-09-17</td>\n",
       "      <td>1015</td>\n",
       "      <td>615 HAMPTON DR</td>\n",
       "      <td>NO PARK/STREET CLEAN</td>\n",
       "      <td>Tuesday</td>\n",
       "      <td>33.994284</td>\n",
       "      <td>-118.474775</td>\n",
       "      <td>(33.99428400168339, -118.4747749980143)</td>\n",
       "      <td>2019-09-17 10:15:00</td>\n",
       "    </tr>\n",
       "    <tr>\n",
       "      <th>4</th>\n",
       "      <td>2019-09-17</td>\n",
       "      <td>1007</td>\n",
       "      <td>1346 MCCADDEN PL N</td>\n",
       "      <td>NO PARK/STREET CLEAN</td>\n",
       "      <td>Tuesday</td>\n",
       "      <td>34.095217</td>\n",
       "      <td>-118.337472</td>\n",
       "      <td>(34.09521697951698, -118.33747210209486)</td>\n",
       "      <td>2019-09-17 10:07:00</td>\n",
       "    </tr>\n",
       "  </tbody>\n",
       "</table>\n",
       "</div>"
      ],
      "text/plain": [
       "   Issue_Date Issue_time            Location Violation_Description  \\\n",
       "0  2019-09-17       1205    309 WINDWARD AVE  NO PARK/STREET CLEAN   \n",
       "1  2019-09-17       0853       934 84TH ST W  NO PARK/STREET CLEAN   \n",
       "2  2019-09-17       0833   2601 MONMOUTH AVE  NO PARK/STREET CLEAN   \n",
       "3  2019-09-17       1015      615 HAMPTON DR  NO PARK/STREET CLEAN   \n",
       "4  2019-09-17       1007  1346 MCCADDEN PL N  NO PARK/STREET CLEAN   \n",
       "\n",
       "  Day_of_Week   Latitude   Longitude  \\\n",
       "0     Tuesday  33.989412 -118.469024   \n",
       "1     Tuesday  33.962435 -118.290126   \n",
       "2     Tuesday  34.032120 -118.284957   \n",
       "3     Tuesday  33.994284 -118.474775   \n",
       "4     Tuesday  34.095217 -118.337472   \n",
       "\n",
       "                                 Coordinates            Datetime  \n",
       "0   (33.98941160114757, -118.46902420083059) 2019-09-17 12:05:00  \n",
       "1  (33.962435471869014, -118.29012557695592) 2019-09-17 08:53:00  \n",
       "2   (34.03211999723245, -118.28495700168608) 2019-09-17 08:33:00  \n",
       "3    (33.99428400168339, -118.4747749980143) 2019-09-17 10:15:00  \n",
       "4   (34.09521697951698, -118.33747210209486) 2019-09-17 10:07:00  "
      ]
     },
     "execution_count": 3,
     "metadata": {},
     "output_type": "execute_result"
    }
   ],
   "source": [
    "df.head()"
   ]
  },
  {
   "cell_type": "code",
   "execution_count": 4,
   "metadata": {},
   "outputs": [],
   "source": [
    "df = df[df['Violation_Description'] == 'NO PARK/STREET CLEAN']"
   ]
  },
  {
   "cell_type": "code",
   "execution_count": 5,
   "metadata": {},
   "outputs": [
    {
     "data": {
      "application/vnd.jupyter.widget-view+json": {
       "model_id": "759ed5dd7ba343d38a360165410c6d36",
       "version_major": 2,
       "version_minor": 0
      },
      "text/plain": [
       "Figure(layout=FigureLayout(height='420px'))"
      ]
     },
     "metadata": {},
     "output_type": "display_data"
    }
   ],
   "source": [
    "# IMPORTANT! This is still a lot of data\n",
    "# Limit amount of records here!\n",
    "df = df[:50]\n",
    "\n",
    "\n",
    "# List of coordinates\n",
    "citation_locations = [citation['Coordinates'] for index, citation in df.iterrows()]\n",
    "# Template text box of info in gmap\n",
    "info_box_template = \"\"\"\n",
    "<dl>\n",
    "<dt>Address</dt><dd>{Location}</dd>\n",
    "<dt>Violation</dt><dd>{Violation_Description}</dd>\n",
    "<dt>Date/Time</dt><dd>{Datetime}</dd>\n",
    "<dt>Weekday</dt><dd>{Day_of_Week}</dd>\n",
    "</dl>\n",
    "\"\"\"\n",
    "# List of info boxes\n",
    "citation_info = [info_box_template.format(**citation) for index, citation in df.iterrows()]\n",
    "# Plot map\n",
    "marker_layer = gmaps.symbol_layer(citation_locations, info_box_content=citation_info,\n",
    "                                  fill_color='red', stroke_color='red', scale=1)\n",
    "fig = gmaps.figure()\n",
    "fig.add_layer(marker_layer)\n",
    "fig"
   ]
  }
 ],
 "metadata": {
  "kernelspec": {
   "display_name": "Python 3",
   "language": "python",
   "name": "python3"
  },
  "language_info": {
   "codemirror_mode": {
    "name": "ipython",
    "version": 3
   },
   "file_extension": ".py",
   "mimetype": "text/x-python",
   "name": "python",
   "nbconvert_exporter": "python",
   "pygments_lexer": "ipython3",
   "version": "3.7.6"
  }
 },
 "nbformat": 4,
 "nbformat_minor": 4
}
