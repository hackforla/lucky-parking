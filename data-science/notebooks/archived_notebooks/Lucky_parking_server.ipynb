{
 "cells": [
  {
   "cell_type": "code",
   "execution_count": 1,
   "metadata": {},
   "outputs": [],
   "source": [
    "import sqlalchemy\n",
    "import numpy as np\n",
    "import pandas as pd\n",
    "import geopandas as gpd\n",
    "from geoalchemy2 import Geometry\n",
    "from geopandas_postgis import PostGIS\n",
    "import pickle"
   ]
  },
  {
   "cell_type": "code",
   "execution_count": 2,
   "metadata": {},
   "outputs": [
    {
     "data": {
      "text/plain": [
       "'1.3.19'"
      ]
     },
     "execution_count": 2,
     "metadata": {},
     "output_type": "execute_result"
    }
   ],
   "source": [
    "sqlalchemy.__version__"
   ]
  },
  {
   "cell_type": "code",
   "execution_count": 3,
   "metadata": {},
   "outputs": [],
   "source": [
    "from sqlalchemy import create_engine\n",
    "engine = create_engine('')"
   ]
  },
  {
   "cell_type": "code",
   "execution_count": 79,
   "metadata": {},
   "outputs": [],
   "source": [
    "df = gpd.read_file('sample_data.geojson')"
   ]
  },
  {
   "cell_type": "code",
   "execution_count": 3,
   "metadata": {},
   "outputs": [],
   "source": [
    "# Opening pickle file\n",
    "with open( \"lucky_parking.p\", \"rb\" ) as f:\n",
    "  df = pickle.load(f)"
   ]
  },
  {
   "cell_type": "code",
   "execution_count": null,
   "metadata": {},
   "outputs": [],
   "source": []
  },
  {
   "cell_type": "code",
   "execution_count": 10,
   "metadata": {},
   "outputs": [],
   "source": [
    "df.postgis.to_postgis(con=engine, table_name='test', geometry='Point')"
   ]
  },
  {
   "cell_type": "code",
   "execution_count": 36,
   "metadata": {},
   "outputs": [],
   "source": [
    "insp = sqlalchemy.inspect(engine)"
   ]
  },
  {
   "cell_type": "code",
   "execution_count": 37,
   "metadata": {},
   "outputs": [],
   "source": [
    "db_list = insp.get_schema_names()"
   ]
  },
  {
   "cell_type": "code",
   "execution_count": 38,
   "metadata": {},
   "outputs": [
    {
     "data": {
      "text/plain": [
       "['information_schema', 'public', 'topology']"
      ]
     },
     "execution_count": 38,
     "metadata": {},
     "output_type": "execute_result"
    }
   ],
   "source": [
    "db_list"
   ]
  },
  {
   "cell_type": "code",
   "execution_count": null,
   "metadata": {},
   "outputs": [],
   "source": [
    "for schema in db_list:\n",
    "    print(\"schema: %s\" % schema)\n",
    "    for table_name in insp.get_table_names(schema=schema):\n",
    "        for column in insp.get_columns(table_name, schema=schema):\n",
    "            print(\"Column: %s\" % column)"
   ]
  },
  {
   "cell_type": "code",
   "execution_count": 42,
   "metadata": {},
   "outputs": [
    {
     "data": {
      "text/plain": [
       "['spatial_ref_sys', 'test']"
      ]
     },
     "execution_count": 42,
     "metadata": {},
     "output_type": "execute_result"
    }
   ],
   "source": [
    "insp.get_table_names('public')"
   ]
  },
  {
   "cell_type": "code",
   "execution_count": 4,
   "metadata": {},
   "outputs": [
    {
     "data": {
      "text/html": [
       "<div>\n",
       "<style scoped>\n",
       "    .dataframe tbody tr th:only-of-type {\n",
       "        vertical-align: middle;\n",
       "    }\n",
       "\n",
       "    .dataframe tbody tr th {\n",
       "        vertical-align: top;\n",
       "    }\n",
       "\n",
       "    .dataframe thead th {\n",
       "        text-align: right;\n",
       "    }\n",
       "</style>\n",
       "<table border=\"1\" class=\"dataframe\">\n",
       "  <thead>\n",
       "    <tr style=\"text-align: right;\">\n",
       "      <th></th>\n",
       "      <th>Ticket number</th>\n",
       "      <th>Meter Id</th>\n",
       "      <th>Marked Time</th>\n",
       "      <th>RP State Plate</th>\n",
       "      <th>Plate Expiry Date</th>\n",
       "      <th>VIN</th>\n",
       "      <th>Make</th>\n",
       "      <th>Body Style</th>\n",
       "      <th>Color</th>\n",
       "      <th>Location</th>\n",
       "      <th>...</th>\n",
       "      <th>Violation Description</th>\n",
       "      <th>Fine amount</th>\n",
       "      <th>Latitude</th>\n",
       "      <th>Longitude</th>\n",
       "      <th>Agency Description</th>\n",
       "      <th>Color Description</th>\n",
       "      <th>Body Style Description</th>\n",
       "      <th>Datetime</th>\n",
       "      <th>Plate Expiry Date Parsed</th>\n",
       "      <th>days_expired</th>\n",
       "    </tr>\n",
       "  </thead>\n",
       "  <tbody>\n",
       "    <tr>\n",
       "      <th>2</th>\n",
       "      <td>1104803000</td>\n",
       "      <td>NaN</td>\n",
       "      <td>NaN</td>\n",
       "      <td>CA</td>\n",
       "      <td>201503.0</td>\n",
       "      <td>NaN</td>\n",
       "      <td>NISS</td>\n",
       "      <td>PA</td>\n",
       "      <td>BK</td>\n",
       "      <td>200 WORLD WAY</td>\n",
       "      <td>...</td>\n",
       "      <td>WHITE CURB</td>\n",
       "      <td>58.0</td>\n",
       "      <td>33.945212</td>\n",
       "      <td>-118.401151</td>\n",
       "      <td>NaN</td>\n",
       "      <td>NaN</td>\n",
       "      <td>NaN</td>\n",
       "      <td>2015-12-21 20:55:00</td>\n",
       "      <td>2015-03-01</td>\n",
       "      <td>295.0</td>\n",
       "    </tr>\n",
       "    <tr>\n",
       "      <th>3</th>\n",
       "      <td>1104820732</td>\n",
       "      <td>NaN</td>\n",
       "      <td>NaN</td>\n",
       "      <td>CA</td>\n",
       "      <td>NaN</td>\n",
       "      <td>NaN</td>\n",
       "      <td>ACUR</td>\n",
       "      <td>PA</td>\n",
       "      <td>WH</td>\n",
       "      <td>100 WORLD WAY</td>\n",
       "      <td>...</td>\n",
       "      <td>17104h</td>\n",
       "      <td>NaN</td>\n",
       "      <td>33.945212</td>\n",
       "      <td>-118.401009</td>\n",
       "      <td>NaN</td>\n",
       "      <td>NaN</td>\n",
       "      <td>NaN</td>\n",
       "      <td>2015-12-26 15:15:00</td>\n",
       "      <td>NaT</td>\n",
       "      <td>NaN</td>\n",
       "    </tr>\n",
       "    <tr>\n",
       "      <th>33</th>\n",
       "      <td>1108321723</td>\n",
       "      <td>NaN</td>\n",
       "      <td>NaN</td>\n",
       "      <td>CA</td>\n",
       "      <td>201610.0</td>\n",
       "      <td>NaN</td>\n",
       "      <td>HOND</td>\n",
       "      <td>PA</td>\n",
       "      <td>BK</td>\n",
       "      <td>10635 FRIAR ST</td>\n",
       "      <td>...</td>\n",
       "      <td>RED ZONE</td>\n",
       "      <td>93.0</td>\n",
       "      <td>34.185788</td>\n",
       "      <td>-118.363082</td>\n",
       "      <td>NaN</td>\n",
       "      <td>NaN</td>\n",
       "      <td>NaN</td>\n",
       "      <td>2015-12-21 10:41:00</td>\n",
       "      <td>2016-10-01</td>\n",
       "      <td>-285.0</td>\n",
       "    </tr>\n",
       "    <tr>\n",
       "      <th>42</th>\n",
       "      <td>1109139006</td>\n",
       "      <td>NaN</td>\n",
       "      <td>NaN</td>\n",
       "      <td>CA</td>\n",
       "      <td>201608.0</td>\n",
       "      <td>NaN</td>\n",
       "      <td>HOND</td>\n",
       "      <td>NaN</td>\n",
       "      <td>GO</td>\n",
       "      <td>14006 RIVERSIDE DR</td>\n",
       "      <td>...</td>\n",
       "      <td>HANDICAP/NO DP ID</td>\n",
       "      <td>363.0</td>\n",
       "      <td>34.157607</td>\n",
       "      <td>-118.438092</td>\n",
       "      <td>NaN</td>\n",
       "      <td>NaN</td>\n",
       "      <td>NaN</td>\n",
       "      <td>2015-12-19 15:50:00</td>\n",
       "      <td>2016-08-01</td>\n",
       "      <td>-226.0</td>\n",
       "    </tr>\n",
       "    <tr>\n",
       "      <th>43</th>\n",
       "      <td>1109455266</td>\n",
       "      <td>NaN</td>\n",
       "      <td>NaN</td>\n",
       "      <td>NY</td>\n",
       "      <td>NaN</td>\n",
       "      <td>NaN</td>\n",
       "      <td>TOYO</td>\n",
       "      <td>PA</td>\n",
       "      <td>WH</td>\n",
       "      <td>3200 CANYON DR</td>\n",
       "      <td>...</td>\n",
       "      <td>PK IN PROH AREA</td>\n",
       "      <td>68.0</td>\n",
       "      <td>34.126932</td>\n",
       "      <td>-118.311225</td>\n",
       "      <td>NaN</td>\n",
       "      <td>NaN</td>\n",
       "      <td>NaN</td>\n",
       "      <td>2015-12-26 18:15:00</td>\n",
       "      <td>NaT</td>\n",
       "      <td>NaN</td>\n",
       "    </tr>\n",
       "  </tbody>\n",
       "</table>\n",
       "<p>5 rows × 23 columns</p>\n",
       "</div>"
      ],
      "text/plain": [
       "   Ticket number Meter Id  Marked Time RP State Plate  Plate Expiry Date  VIN  \\\n",
       "2     1104803000      NaN          NaN             CA           201503.0  NaN   \n",
       "3     1104820732      NaN          NaN             CA                NaN  NaN   \n",
       "33    1108321723      NaN          NaN             CA           201610.0  NaN   \n",
       "42    1109139006      NaN          NaN             CA           201608.0  NaN   \n",
       "43    1109455266      NaN          NaN             NY                NaN  NaN   \n",
       "\n",
       "    Make Body Style Color            Location  ... Violation Description  \\\n",
       "2   NISS         PA    BK       200 WORLD WAY  ...            WHITE CURB   \n",
       "3   ACUR         PA    WH       100 WORLD WAY  ...                17104h   \n",
       "33  HOND         PA    BK      10635 FRIAR ST  ...              RED ZONE   \n",
       "42  HOND        NaN    GO  14006 RIVERSIDE DR  ...     HANDICAP/NO DP ID   \n",
       "43  TOYO         PA    WH      3200 CANYON DR  ...       PK IN PROH AREA   \n",
       "\n",
       "    Fine amount   Latitude   Longitude  Agency Description  Color Description  \\\n",
       "2          58.0  33.945212 -118.401151                 NaN                NaN   \n",
       "3           NaN  33.945212 -118.401009                 NaN                NaN   \n",
       "33         93.0  34.185788 -118.363082                 NaN                NaN   \n",
       "42        363.0  34.157607 -118.438092                 NaN                NaN   \n",
       "43         68.0  34.126932 -118.311225                 NaN                NaN   \n",
       "\n",
       "    Body Style Description            Datetime Plate Expiry Date Parsed  \\\n",
       "2                      NaN 2015-12-21 20:55:00               2015-03-01   \n",
       "3                      NaN 2015-12-26 15:15:00                      NaT   \n",
       "33                     NaN 2015-12-21 10:41:00               2016-10-01   \n",
       "42                     NaN 2015-12-19 15:50:00               2016-08-01   \n",
       "43                     NaN 2015-12-26 18:15:00                      NaT   \n",
       "\n",
       "   days_expired  \n",
       "2         295.0  \n",
       "3           NaN  \n",
       "33       -285.0  \n",
       "42       -226.0  \n",
       "43          NaN  \n",
       "\n",
       "[5 rows x 23 columns]"
      ]
     },
     "execution_count": 4,
     "metadata": {},
     "output_type": "execute_result"
    }
   ],
   "source": [
    "df.head()"
   ]
  },
  {
   "cell_type": "code",
   "execution_count": 81,
   "metadata": {},
   "outputs": [],
   "source": [
    "# Imports\n",
    "from geoalchemy2 import Geometry, WKTElement\n",
    "from sqlalchemy import *\n",
    "\n",
    "# df = gpd.read_file('sample_data.geojson')\n",
    "# df['geometry'] = df['geometry'].apply(lambda x: WKTElement(x.wkt, srid=4326))\n",
    "# df.drop('ticket_number', axis=1, inplace=True)\n",
    "\n",
    "# Use 'dtype' to specify column's type\n",
    "# For the geom column, we will use GeoAlchemy's type 'Geometry'\n",
    "df.drop('Ticket number', axis=1).to_sql('test', engine, if_exists='replace', index=True, \n",
    "                         dtype={'issue_date': Date,\n",
    "                            'fine_amount':Integer, \n",
    "                            'geometry': Geometry('POINT', srid=4326)})\n"
   ]
  },
  {
   "cell_type": "code",
   "execution_count": null,
   "metadata": {},
   "outputs": [],
   "source": [
    "df_csv = pd.read_csv('Parking_Citations.csv')"
   ]
  },
  {
   "cell_type": "code",
   "execution_count": null,
   "metadata": {},
   "outputs": [],
   "source": [
    "df_csv.head()"
   ]
  },
  {
   "cell_type": "code",
   "execution_count": null,
   "metadata": {},
   "outputs": [],
   "source": [
    "# Imports\n",
    "\n",
    "from sqlalchemy import *\n",
    "\n",
    "# df = gpd.read_file('sample_data.geojson')\n",
    "# df['geometry'] = df['geometry'].apply(lambda x: WKTElement(x.wkt, srid=4326))\n",
    "# df.drop('ticket_number', axis=1, inplace=True)\n",
    "\n",
    "# For the geometry column, we will use GeoAlchemy's type 'Geometry'\n",
    "df.drop('Ticket number', axis=1).to_sql('citations', engine, if_exists='replace', index=False, \n",
    "                      dtype={'Datetime': DateTime,\n",
    "                        'Fine_amount':Numeric, \n",
    "                        'Latitude':Float,\n",
    "                        'Longitude': Float,\n",
    "                        'Plate Expiry Date': Date\n",
    "                        })"
   ]
  },
  {
   "cell_type": "code",
   "execution_count": null,
   "metadata": {},
   "outputs": [],
   "source": []
  }
 ],
 "metadata": {
  "kernelspec": {
   "display_name": "Python 3",
   "language": "python",
   "name": "python3"
  },
  "language_info": {
   "codemirror_mode": {
    "name": "ipython",
    "version": 3
   },
   "file_extension": ".py",
   "mimetype": "text/x-python",
   "name": "python",
   "nbconvert_exporter": "python",
   "pygments_lexer": "ipython3",
   "version": "3.7.6"
  }
 },
 "nbformat": 4,
 "nbformat_minor": 4
}