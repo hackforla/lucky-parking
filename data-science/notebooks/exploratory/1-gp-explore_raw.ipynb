{
  "nbformat": 4,
  "nbformat_minor": 0,
  "metadata": {
    "colab": {
      "name": "Lucky_parking_01.ipynb",
      "provenance": [],
      "collapsed_sections": []
    },
    "kernelspec": {
      "name": "python3",
      "display_name": "Python 3.7.9 64-bit ('lucky-parking-analysis': conda)",
      "metadata": {
        "interpreter": {
          "hash": "88a9e84cb59e92d380bcda66fd4dc391f9976b9504ca3d76adb3981443f85004"
        }
      }
    }
  },
  "cells": [
    {
      "cell_type": "code",
      "metadata": {
        "id": "0e1lB6uPo47v",
        "colab_type": "code",
        "colab": {
          "base_uri": "https://localhost:8080/",
          "height": 451
        },
        "outputId": "d41bc66e-4ccf-460e-ec2e-a3d6160657bb"
      },
      "source": [
        "! pip install geopandas"
      ],
      "execution_count": 2,
      "outputs": [
        {
          "output_type": "stream",
          "text": [
            "Collecting geopandas\n",
            "\u001b[?25l  Downloading https://files.pythonhosted.org/packages/f7/a4/e66aafbefcbb717813bf3a355c8c4fc3ed04ea1dd7feb2920f2f4f868921/geopandas-0.8.1-py2.py3-none-any.whl (962kB)\n",
            "\u001b[K     |████████████████████████████████| 972kB 2.7MB/s \n",
            "\u001b[?25hRequirement already satisfied: shapely in /usr/local/lib/python3.6/dist-packages (from geopandas) (1.7.0)\n",
            "Requirement already satisfied: pandas>=0.23.0 in /usr/local/lib/python3.6/dist-packages (from geopandas) (1.0.5)\n",
            "Collecting fiona\n",
            "\u001b[?25l  Downloading https://files.pythonhosted.org/packages/ec/20/4e63bc5c6e62df889297b382c3ccd4a7a488b00946aaaf81a118158c6f09/Fiona-1.8.13.post1-cp36-cp36m-manylinux1_x86_64.whl (14.7MB)\n",
            "\u001b[K     |████████████████████████████████| 14.7MB 301kB/s \n",
            "\u001b[?25hCollecting pyproj>=2.2.0\n",
            "\u001b[?25l  Downloading https://files.pythonhosted.org/packages/e5/c3/071e080230ac4b6c64f1a2e2f9161c9737a2bc7b683d2c90b024825000c0/pyproj-2.6.1.post1-cp36-cp36m-manylinux2010_x86_64.whl (10.9MB)\n",
            "\u001b[K     |████████████████████████████████| 10.9MB 46.7MB/s \n",
            "\u001b[?25hRequirement already satisfied: numpy>=1.13.3 in /usr/local/lib/python3.6/dist-packages (from pandas>=0.23.0->geopandas) (1.18.5)\n",
            "Requirement already satisfied: python-dateutil>=2.6.1 in /usr/local/lib/python3.6/dist-packages (from pandas>=0.23.0->geopandas) (2.8.1)\n",
            "Requirement already satisfied: pytz>=2017.2 in /usr/local/lib/python3.6/dist-packages (from pandas>=0.23.0->geopandas) (2018.9)\n",
            "Collecting cligj>=0.5\n",
            "  Downloading https://files.pythonhosted.org/packages/e4/be/30a58b4b0733850280d01f8bd132591b4668ed5c7046761098d665ac2174/cligj-0.5.0-py3-none-any.whl\n",
            "Requirement already satisfied: attrs>=17 in /usr/local/lib/python3.6/dist-packages (from fiona->geopandas) (19.3.0)\n",
            "Collecting munch\n",
            "  Downloading https://files.pythonhosted.org/packages/cc/ab/85d8da5c9a45e072301beb37ad7f833cd344e04c817d97e0cc75681d248f/munch-2.5.0-py2.py3-none-any.whl\n",
            "Requirement already satisfied: click<8,>=4.0 in /usr/local/lib/python3.6/dist-packages (from fiona->geopandas) (7.1.2)\n",
            "Collecting click-plugins>=1.0\n",
            "  Downloading https://files.pythonhosted.org/packages/e9/da/824b92d9942f4e472702488857914bdd50f73021efea15b4cad9aca8ecef/click_plugins-1.1.1-py2.py3-none-any.whl\n",
            "Requirement already satisfied: six>=1.7 in /usr/local/lib/python3.6/dist-packages (from fiona->geopandas) (1.15.0)\n",
            "Installing collected packages: cligj, munch, click-plugins, fiona, pyproj, geopandas\n",
            "Successfully installed click-plugins-1.1.1 cligj-0.5.0 fiona-1.8.13.post1 geopandas-0.8.1 munch-2.5.0 pyproj-2.6.1.post1\n"
          ],
          "name": "stdout"
        }
      ]
    },
    {
      "cell_type": "code",
      "metadata": {
        "id": "p8f9EZM0sNoR",
        "colab_type": "code",
        "colab": {
          "base_uri": "https://localhost:8080/",
          "height": 156
        },
        "outputId": "2afe8fa8-4f0d-4abf-cac6-9d7a6cbe79b2"
      },
      "source": [
        "! wget https://data.lacity.org/api/views/wjz9-h9np/rows.csv?accessType=DOWNLOAD"
      ],
      "execution_count": 2,
      "outputs": [
        {
          "output_type": "stream",
          "text": [
            "--2020-08-03 08:47:02--  https://data.lacity.org/api/views/wjz9-h9np/rows.csv?accessType=DOWNLOAD\n",
            "Resolving data.lacity.org (data.lacity.org)... 52.206.68.26, 52.206.140.199, 52.206.140.205\n",
            "Connecting to data.lacity.org (data.lacity.org)|52.206.68.26|:443... connected.\n",
            "HTTP request sent, awaiting response... 200 OK\n",
            "Length: unspecified [text/csv]\n",
            "Saving to: ‘rows.csv?accessType=DOWNLOAD’\n",
            "\n",
            "WNLOAD                  [  <=>               ]  27.32M  3.66MB/s               ^C\n"
          ],
          "name": "stdout"
        }
      ]
    },
    {
      "cell_type": "code",
      "metadata": {
        "id": "UN9sA7uwM4p9",
        "colab_type": "code",
        "colab": {
          "base_uri": "https://localhost:8080/",
          "height": 364
        },
        "outputId": "3f062af6-acec-47c4-8fd3-4dd5276e8aeb"
      },
      "source": [
        "! wget https://www2.census.gov/geo/tiger/TIGER2017//STATE/tl_2017_us_state.zip\n",
        "! unzip tl_2017_us_state.zip\n"
      ],
      "execution_count": 3,
      "outputs": [
        {
          "output_type": "stream",
          "text": [
            "--2020-08-03 16:57:35--  https://www2.census.gov/geo/tiger/TIGER2017//STATE/tl_2017_us_state.zip\n",
            "Resolving www2.census.gov (www2.census.gov)... 23.76.87.160, 2600:1417:76:497::208c, 2600:1417:76:490::208c\n",
            "Connecting to www2.census.gov (www2.census.gov)|23.76.87.160|:443... connected.\n",
            "HTTP request sent, awaiting response... 200 OK\n",
            "Length: unspecified [application/zip]\n",
            "Saving to: ‘tl_2017_us_state.zip’\n",
            "\n",
            "tl_2017_us_state.zi     [ <=>                ]   8.85M  --.-KB/s    in 0.1s    \n",
            "\n",
            "2020-08-03 16:57:37 (77.8 MB/s) - ‘tl_2017_us_state.zip’ saved [9284383]\n",
            "\n",
            "Archive:  tl_2017_us_state.zip\n",
            " extracting: tl_2017_us_state.cpg    \n",
            "  inflating: tl_2017_us_state.dbf    \n",
            "  inflating: tl_2017_us_state.prj    \n",
            "  inflating: tl_2017_us_state.shp    \n",
            "  inflating: tl_2017_us_state.shp.ea.iso.xml  \n",
            "  inflating: tl_2017_us_state.shp.iso.xml  \n",
            "  inflating: tl_2017_us_state.shp.xml  \n",
            "  inflating: tl_2017_us_state.shx    \n"
          ],
          "name": "stdout"
        }
      ]
    },
    {
      "cell_type": "code",
      "metadata": {
        "id": "Z5l5or_Nsfql",
        "colab_type": "code",
        "colab": {}
      },
      "source": [
        "import numpy as np\n",
        "import pandas as pd\n",
        "import datetime as dt\n",
        "import math\n",
        "import matplotlib.pyplot as plt\n",
        "import requests\n",
        "import geopandas as gpd\n",
        "import pickle\n",
        "import seaborn as sns\n",
        "import sys\n",
        "from sklearn.manifold import TSNE\n",
        "from sklearn.decomposition import PCA\n",
        "pd.set_option('max_rows', 500)\n",
        "np.set_printoptions(threshold=sys.maxsize)"
      ],
      "execution_count": 4,
      "outputs": []
    },
    {
      "cell_type": "code",
      "metadata": {
        "id": "73GQzGiLcWJV",
        "colab_type": "code",
        "colab": {}
      },
      "source": [
        "states = gpd.read_file('/content/tl_2017_us_state.shp', crs=\"EPSG:4326\")"
      ],
      "execution_count": 5,
      "outputs": []
    },
    {
      "cell_type": "code",
      "metadata": {
        "id": "eyfKAEzrAb8c",
        "colab_type": "code",
        "colab": {
          "base_uri": "https://localhost:8080/",
          "height": 206
        },
        "outputId": "2fa22151-cf55-4377-bec2-288297f7f0fe"
      },
      "source": [
        "states.head()"
      ],
      "execution_count": 6,
      "outputs": [
        {
          "output_type": "execute_result",
          "data": {
            "text/html": [
              "<div>\n",
              "<style scoped>\n",
              "    .dataframe tbody tr th:only-of-type {\n",
              "        vertical-align: middle;\n",
              "    }\n",
              "\n",
              "    .dataframe tbody tr th {\n",
              "        vertical-align: top;\n",
              "    }\n",
              "\n",
              "    .dataframe thead th {\n",
              "        text-align: right;\n",
              "    }\n",
              "</style>\n",
              "<table border=\"1\" class=\"dataframe\">\n",
              "  <thead>\n",
              "    <tr style=\"text-align: right;\">\n",
              "      <th></th>\n",
              "      <th>REGION</th>\n",
              "      <th>DIVISION</th>\n",
              "      <th>STATEFP</th>\n",
              "      <th>STATENS</th>\n",
              "      <th>GEOID</th>\n",
              "      <th>STUSPS</th>\n",
              "      <th>NAME</th>\n",
              "      <th>LSAD</th>\n",
              "      <th>MTFCC</th>\n",
              "      <th>FUNCSTAT</th>\n",
              "      <th>ALAND</th>\n",
              "      <th>AWATER</th>\n",
              "      <th>INTPTLAT</th>\n",
              "      <th>INTPTLON</th>\n",
              "      <th>geometry</th>\n",
              "    </tr>\n",
              "  </thead>\n",
              "  <tbody>\n",
              "    <tr>\n",
              "      <th>0</th>\n",
              "      <td>3</td>\n",
              "      <td>5</td>\n",
              "      <td>54</td>\n",
              "      <td>01779805</td>\n",
              "      <td>54</td>\n",
              "      <td>WV</td>\n",
              "      <td>West Virginia</td>\n",
              "      <td>00</td>\n",
              "      <td>G4000</td>\n",
              "      <td>A</td>\n",
              "      <td>62265662566</td>\n",
              "      <td>489840834</td>\n",
              "      <td>+38.6472854</td>\n",
              "      <td>-080.6183274</td>\n",
              "      <td>POLYGON ((-81.74725 39.09538, -81.74635 39.096...</td>\n",
              "    </tr>\n",
              "    <tr>\n",
              "      <th>1</th>\n",
              "      <td>3</td>\n",
              "      <td>5</td>\n",
              "      <td>12</td>\n",
              "      <td>00294478</td>\n",
              "      <td>12</td>\n",
              "      <td>FL</td>\n",
              "      <td>Florida</td>\n",
              "      <td>00</td>\n",
              "      <td>G4000</td>\n",
              "      <td>A</td>\n",
              "      <td>138911437206</td>\n",
              "      <td>31398800291</td>\n",
              "      <td>+28.4574302</td>\n",
              "      <td>-082.4091478</td>\n",
              "      <td>MULTIPOLYGON (((-82.98748 24.62538, -82.98748 ...</td>\n",
              "    </tr>\n",
              "    <tr>\n",
              "      <th>2</th>\n",
              "      <td>2</td>\n",
              "      <td>3</td>\n",
              "      <td>17</td>\n",
              "      <td>01779784</td>\n",
              "      <td>17</td>\n",
              "      <td>IL</td>\n",
              "      <td>Illinois</td>\n",
              "      <td>00</td>\n",
              "      <td>G4000</td>\n",
              "      <td>A</td>\n",
              "      <td>143784114293</td>\n",
              "      <td>6211277447</td>\n",
              "      <td>+40.1028754</td>\n",
              "      <td>-089.1526108</td>\n",
              "      <td>POLYGON ((-91.18529 40.63780, -91.17510 40.643...</td>\n",
              "    </tr>\n",
              "    <tr>\n",
              "      <th>3</th>\n",
              "      <td>2</td>\n",
              "      <td>4</td>\n",
              "      <td>27</td>\n",
              "      <td>00662849</td>\n",
              "      <td>27</td>\n",
              "      <td>MN</td>\n",
              "      <td>Minnesota</td>\n",
              "      <td>00</td>\n",
              "      <td>G4000</td>\n",
              "      <td>A</td>\n",
              "      <td>206229176104</td>\n",
              "      <td>18944967530</td>\n",
              "      <td>+46.3158148</td>\n",
              "      <td>-094.1996628</td>\n",
              "      <td>POLYGON ((-96.78438 46.63050, -96.78434 46.630...</td>\n",
              "    </tr>\n",
              "    <tr>\n",
              "      <th>4</th>\n",
              "      <td>3</td>\n",
              "      <td>5</td>\n",
              "      <td>24</td>\n",
              "      <td>01714934</td>\n",
              "      <td>24</td>\n",
              "      <td>MD</td>\n",
              "      <td>Maryland</td>\n",
              "      <td>00</td>\n",
              "      <td>G4000</td>\n",
              "      <td>A</td>\n",
              "      <td>25150696145</td>\n",
              "      <td>6980371026</td>\n",
              "      <td>+38.9466584</td>\n",
              "      <td>-076.6744939</td>\n",
              "      <td>POLYGON ((-77.45881 39.22027, -77.45866 39.220...</td>\n",
              "    </tr>\n",
              "  </tbody>\n",
              "</table>\n",
              "</div>"
            ],
            "text/plain": [
              "  REGION  ...                                           geometry\n",
              "0      3  ...  POLYGON ((-81.74725 39.09538, -81.74635 39.096...\n",
              "1      3  ...  MULTIPOLYGON (((-82.98748 24.62538, -82.98748 ...\n",
              "2      2  ...  POLYGON ((-91.18529 40.63780, -91.17510 40.643...\n",
              "3      2  ...  POLYGON ((-96.78438 46.63050, -96.78434 46.630...\n",
              "4      3  ...  POLYGON ((-77.45881 39.22027, -77.45866 39.220...\n",
              "\n",
              "[5 rows x 15 columns]"
            ]
          },
          "metadata": {
            "tags": []
          },
          "execution_count": 6
        }
      ]
    },
    {
      "cell_type": "markdown",
      "metadata": {
        "id": "REajhMkLxyN0",
        "colab_type": "text"
      },
      "source": [
        "We load the data as json instead of geojson because some table manipulations can cause the geodataframe to break, so turn it into a geodataframe at the end"
      ]
    },
    {
      "cell_type": "code",
      "metadata": {
        "id": "Znz_PPAqsWBs",
        "colab_type": "code",
        "colab": {}
      },
      "source": [
        "# Use this code to get data via API. \n",
        "# Register to get more than 1000 records at a time\n",
        "# r = requests.get('https://data.lacity.org/resource/wjz9-h9np.json?$limit=50000', auth=('', ''))\n",
        "# df = pd.DataFrame(r.json())"
      ],
      "execution_count": null,
      "outputs": []
    },
    {
      "cell_type": "code",
      "metadata": {
        "id": "Bhjr1AoIv-uG",
        "colab_type": "code",
        "colab": {}
      },
      "source": [
        "df = pd.read_csv('/content/rows.csv?accessType=DOWNLOAD', low_memory=False)"
      ],
      "execution_count": null,
      "outputs": []
    },
    {
      "cell_type": "code",
      "metadata": {
        "id": "m4J4odRdxpXV",
        "colab_type": "code",
        "colab": {
          "base_uri": "https://localhost:8080/",
          "height": 348
        },
        "outputId": "d3dcbc1e-fe00-482a-9965-7bb891d5500b"
      },
      "source": [
        "df.head()"
      ],
      "execution_count": null,
      "outputs": [
        {
          "output_type": "execute_result",
          "data": {
            "text/html": [
              "<div>\n",
              "<style scoped>\n",
              "    .dataframe tbody tr th:only-of-type {\n",
              "        vertical-align: middle;\n",
              "    }\n",
              "\n",
              "    .dataframe tbody tr th {\n",
              "        vertical-align: top;\n",
              "    }\n",
              "\n",
              "    .dataframe thead th {\n",
              "        text-align: right;\n",
              "    }\n",
              "</style>\n",
              "<table border=\"1\" class=\"dataframe\">\n",
              "  <thead>\n",
              "    <tr style=\"text-align: right;\">\n",
              "      <th></th>\n",
              "      <th>Ticket number</th>\n",
              "      <th>Issue Date</th>\n",
              "      <th>Issue time</th>\n",
              "      <th>Meter Id</th>\n",
              "      <th>Marked Time</th>\n",
              "      <th>RP State Plate</th>\n",
              "      <th>Plate Expiry Date</th>\n",
              "      <th>VIN</th>\n",
              "      <th>Make</th>\n",
              "      <th>Body Style</th>\n",
              "      <th>Color</th>\n",
              "      <th>Location</th>\n",
              "      <th>Route</th>\n",
              "      <th>Agency</th>\n",
              "      <th>Violation code</th>\n",
              "      <th>Violation Description</th>\n",
              "      <th>Fine amount</th>\n",
              "      <th>Latitude</th>\n",
              "      <th>Longitude</th>\n",
              "      <th>Agency Description</th>\n",
              "      <th>Color Description</th>\n",
              "      <th>Body Style Description</th>\n",
              "    </tr>\n",
              "  </thead>\n",
              "  <tbody>\n",
              "    <tr>\n",
              "      <th>0</th>\n",
              "      <td>1103341116</td>\n",
              "      <td>12/21/2015</td>\n",
              "      <td>1251.0</td>\n",
              "      <td>NaN</td>\n",
              "      <td>NaN</td>\n",
              "      <td>CA</td>\n",
              "      <td>200304.0</td>\n",
              "      <td>NaN</td>\n",
              "      <td>HOND</td>\n",
              "      <td>PA</td>\n",
              "      <td>GY</td>\n",
              "      <td>13147 WELBY WAY</td>\n",
              "      <td>01521</td>\n",
              "      <td>1.0</td>\n",
              "      <td>4000A1</td>\n",
              "      <td>NO EVIDENCE OF REG</td>\n",
              "      <td>50.0</td>\n",
              "      <td>99999.0</td>\n",
              "      <td>99999.0</td>\n",
              "      <td>NaN</td>\n",
              "      <td>NaN</td>\n",
              "      <td>NaN</td>\n",
              "    </tr>\n",
              "    <tr>\n",
              "      <th>1</th>\n",
              "      <td>1103700150</td>\n",
              "      <td>12/21/2015</td>\n",
              "      <td>1435.0</td>\n",
              "      <td>NaN</td>\n",
              "      <td>NaN</td>\n",
              "      <td>CA</td>\n",
              "      <td>201512.0</td>\n",
              "      <td>NaN</td>\n",
              "      <td>GMC</td>\n",
              "      <td>VN</td>\n",
              "      <td>WH</td>\n",
              "      <td>525 S MAIN ST</td>\n",
              "      <td>1C51</td>\n",
              "      <td>1.0</td>\n",
              "      <td>4000A1</td>\n",
              "      <td>NO EVIDENCE OF REG</td>\n",
              "      <td>50.0</td>\n",
              "      <td>99999.0</td>\n",
              "      <td>99999.0</td>\n",
              "      <td>NaN</td>\n",
              "      <td>NaN</td>\n",
              "      <td>NaN</td>\n",
              "    </tr>\n",
              "    <tr>\n",
              "      <th>2</th>\n",
              "      <td>1104803000</td>\n",
              "      <td>12/21/2015</td>\n",
              "      <td>2055.0</td>\n",
              "      <td>NaN</td>\n",
              "      <td>NaN</td>\n",
              "      <td>CA</td>\n",
              "      <td>201503.0</td>\n",
              "      <td>NaN</td>\n",
              "      <td>NISS</td>\n",
              "      <td>PA</td>\n",
              "      <td>BK</td>\n",
              "      <td>200 WORLD WAY</td>\n",
              "      <td>2R2</td>\n",
              "      <td>2.0</td>\n",
              "      <td>8939</td>\n",
              "      <td>WHITE CURB</td>\n",
              "      <td>58.0</td>\n",
              "      <td>6439997.9</td>\n",
              "      <td>1802686.4</td>\n",
              "      <td>NaN</td>\n",
              "      <td>NaN</td>\n",
              "      <td>NaN</td>\n",
              "    </tr>\n",
              "    <tr>\n",
              "      <th>3</th>\n",
              "      <td>1104820732</td>\n",
              "      <td>12/26/2015</td>\n",
              "      <td>1515.0</td>\n",
              "      <td>NaN</td>\n",
              "      <td>NaN</td>\n",
              "      <td>CA</td>\n",
              "      <td>NaN</td>\n",
              "      <td>NaN</td>\n",
              "      <td>ACUR</td>\n",
              "      <td>PA</td>\n",
              "      <td>WH</td>\n",
              "      <td>100 WORLD WAY</td>\n",
              "      <td>2F11</td>\n",
              "      <td>2.0</td>\n",
              "      <td>000</td>\n",
              "      <td>17104h</td>\n",
              "      <td>NaN</td>\n",
              "      <td>6440041.1</td>\n",
              "      <td>1802686.2</td>\n",
              "      <td>NaN</td>\n",
              "      <td>NaN</td>\n",
              "      <td>NaN</td>\n",
              "    </tr>\n",
              "    <tr>\n",
              "      <th>4</th>\n",
              "      <td>1105461453</td>\n",
              "      <td>09/15/2015</td>\n",
              "      <td>115.0</td>\n",
              "      <td>NaN</td>\n",
              "      <td>NaN</td>\n",
              "      <td>CA</td>\n",
              "      <td>200316.0</td>\n",
              "      <td>NaN</td>\n",
              "      <td>CHEV</td>\n",
              "      <td>PA</td>\n",
              "      <td>BK</td>\n",
              "      <td>GEORGIA ST/OLYMPIC</td>\n",
              "      <td>1FB70</td>\n",
              "      <td>1.0</td>\n",
              "      <td>8069A</td>\n",
              "      <td>NO STOPPING/STANDING</td>\n",
              "      <td>93.0</td>\n",
              "      <td>99999.0</td>\n",
              "      <td>99999.0</td>\n",
              "      <td>NaN</td>\n",
              "      <td>NaN</td>\n",
              "      <td>NaN</td>\n",
              "    </tr>\n",
              "  </tbody>\n",
              "</table>\n",
              "</div>"
            ],
            "text/plain": [
              "  Ticket number  Issue Date  ...  Color Description Body Style Description\n",
              "0    1103341116  12/21/2015  ...                NaN                    NaN\n",
              "1    1103700150  12/21/2015  ...                NaN                    NaN\n",
              "2    1104803000  12/21/2015  ...                NaN                    NaN\n",
              "3    1104820732  12/26/2015  ...                NaN                    NaN\n",
              "4    1105461453  09/15/2015  ...                NaN                    NaN\n",
              "\n",
              "[5 rows x 22 columns]"
            ]
          },
          "metadata": {
            "tags": []
          },
          "execution_count": 13
        }
      ]
    },
    {
      "cell_type": "markdown",
      "metadata": {
        "id": "KQlr1pQpO5QQ",
        "colab_type": "text"
      },
      "source": [
        "From inspection of the first five records there are some columns containing NaNs and Latitude and Longitude are not in degrees and also contain placeholder values."
      ]
    },
    {
      "cell_type": "code",
      "metadata": {
        "id": "TB55Z070zVF-",
        "colab_type": "code",
        "colab": {
          "base_uri": "https://localhost:8080/",
          "height": 521
        },
        "outputId": "97c802e4-fe0c-433a-dea4-678ecf59f7fd"
      },
      "source": [
        "df.info()"
      ],
      "execution_count": null,
      "outputs": [
        {
          "output_type": "stream",
          "text": [
            "<class 'pandas.core.frame.DataFrame'>\n",
            "RangeIndex: 10499385 entries, 0 to 10499384\n",
            "Data columns (total 22 columns):\n",
            " #   Column                  Dtype  \n",
            "---  ------                  -----  \n",
            " 0   Ticket number           object \n",
            " 1   Issue Date              object \n",
            " 2   Issue time              float64\n",
            " 3   Meter Id                object \n",
            " 4   Marked Time             float64\n",
            " 5   RP State Plate          object \n",
            " 6   Plate Expiry Date       float64\n",
            " 7   VIN                     object \n",
            " 8   Make                    object \n",
            " 9   Body Style              object \n",
            " 10  Color                   object \n",
            " 11  Location                object \n",
            " 12  Route                   object \n",
            " 13  Agency                  float64\n",
            " 14  Violation code          object \n",
            " 15  Violation Description   object \n",
            " 16  Fine amount             float64\n",
            " 17  Latitude                float64\n",
            " 18  Longitude               float64\n",
            " 19  Agency Description      object \n",
            " 20  Color Description       object \n",
            " 21  Body Style Description  object \n",
            "dtypes: float64(7), object(15)\n",
            "memory usage: 1.7+ GB\n"
          ],
          "name": "stdout"
        }
      ]
    },
    {
      "cell_type": "code",
      "metadata": {
        "id": "9_oanH6N6BnN",
        "colab_type": "code",
        "colab": {
          "base_uri": "https://localhost:8080/",
          "height": 301
        },
        "outputId": "4a78fb24-dc1a-415b-940c-aa81a5918ce1"
      },
      "source": [
        "df.describe()"
      ],
      "execution_count": null,
      "outputs": [
        {
          "output_type": "execute_result",
          "data": {
            "text/html": [
              "<div>\n",
              "<style scoped>\n",
              "    .dataframe tbody tr th:only-of-type {\n",
              "        vertical-align: middle;\n",
              "    }\n",
              "\n",
              "    .dataframe tbody tr th {\n",
              "        vertical-align: top;\n",
              "    }\n",
              "\n",
              "    .dataframe thead th {\n",
              "        text-align: right;\n",
              "    }\n",
              "</style>\n",
              "<table border=\"1\" class=\"dataframe\">\n",
              "  <thead>\n",
              "    <tr style=\"text-align: right;\">\n",
              "      <th></th>\n",
              "      <th>Issue time</th>\n",
              "      <th>Marked Time</th>\n",
              "      <th>Plate Expiry Date</th>\n",
              "      <th>Agency</th>\n",
              "      <th>Fine amount</th>\n",
              "      <th>Latitude</th>\n",
              "      <th>Longitude</th>\n",
              "    </tr>\n",
              "  </thead>\n",
              "  <tbody>\n",
              "    <tr>\n",
              "      <th>count</th>\n",
              "      <td>1.049514e+07</td>\n",
              "      <td>340870.000000</td>\n",
              "      <td>9.526289e+06</td>\n",
              "      <td>1.049776e+07</td>\n",
              "      <td>1.047932e+07</td>\n",
              "      <td>1.049938e+07</td>\n",
              "      <td>1.049938e+07</td>\n",
              "    </tr>\n",
              "    <tr>\n",
              "      <th>mean</th>\n",
              "      <td>1.196284e+03</td>\n",
              "      <td>1058.777323</td>\n",
              "      <td>1.884065e+05</td>\n",
              "      <td>5.197611e+01</td>\n",
              "      <td>7.043522e+01</td>\n",
              "      <td>5.530876e+06</td>\n",
              "      <td>1.594642e+06</td>\n",
              "    </tr>\n",
              "    <tr>\n",
              "      <th>std</th>\n",
              "      <td>4.743501e+02</td>\n",
              "      <td>226.387081</td>\n",
              "      <td>5.010784e+04</td>\n",
              "      <td>9.404579e+00</td>\n",
              "      <td>3.336542e+01</td>\n",
              "      <td>2.870658e+06</td>\n",
              "      <td>1.897801e+06</td>\n",
              "    </tr>\n",
              "    <tr>\n",
              "      <th>min</th>\n",
              "      <td>0.000000e+00</td>\n",
              "      <td>1.000000</td>\n",
              "      <td>1.000000e+00</td>\n",
              "      <td>1.000000e+00</td>\n",
              "      <td>1.000000e+00</td>\n",
              "      <td>0.000000e+00</td>\n",
              "      <td>0.000000e+00</td>\n",
              "    </tr>\n",
              "    <tr>\n",
              "      <th>25%</th>\n",
              "      <td>9.080000e+02</td>\n",
              "      <td>913.000000</td>\n",
              "      <td>2.016040e+05</td>\n",
              "      <td>5.100000e+01</td>\n",
              "      <td>6.300000e+01</td>\n",
              "      <td>6.421922e+06</td>\n",
              "      <td>1.822212e+06</td>\n",
              "    </tr>\n",
              "    <tr>\n",
              "      <th>50%</th>\n",
              "      <td>1.152000e+03</td>\n",
              "      <td>1040.000000</td>\n",
              "      <td>2.017070e+05</td>\n",
              "      <td>5.400000e+01</td>\n",
              "      <td>6.800000e+01</td>\n",
              "      <td>6.452041e+06</td>\n",
              "      <td>1.841981e+06</td>\n",
              "    </tr>\n",
              "    <tr>\n",
              "      <th>75%</th>\n",
              "      <td>1.504000e+03</td>\n",
              "      <td>1200.000000</td>\n",
              "      <td>2.018100e+05</td>\n",
              "      <td>5.500000e+01</td>\n",
              "      <td>7.300000e+01</td>\n",
              "      <td>6.475224e+06</td>\n",
              "      <td>1.858206e+06</td>\n",
              "    </tr>\n",
              "    <tr>\n",
              "      <th>max</th>\n",
              "      <td>2.359000e+03</td>\n",
              "      <td>2400.000000</td>\n",
              "      <td>9.201020e+05</td>\n",
              "      <td>9.900000e+01</td>\n",
              "      <td>1.100000e+03</td>\n",
              "      <td>4.042322e+09</td>\n",
              "      <td>4.042322e+09</td>\n",
              "    </tr>\n",
              "  </tbody>\n",
              "</table>\n",
              "</div>"
            ],
            "text/plain": [
              "         Issue time    Marked Time  ...      Latitude     Longitude\n",
              "count  1.049514e+07  340870.000000  ...  1.049938e+07  1.049938e+07\n",
              "mean   1.196284e+03    1058.777323  ...  5.530876e+06  1.594642e+06\n",
              "std    4.743501e+02     226.387081  ...  2.870658e+06  1.897801e+06\n",
              "min    0.000000e+00       1.000000  ...  0.000000e+00  0.000000e+00\n",
              "25%    9.080000e+02     913.000000  ...  6.421922e+06  1.822212e+06\n",
              "50%    1.152000e+03    1040.000000  ...  6.452041e+06  1.841981e+06\n",
              "75%    1.504000e+03    1200.000000  ...  6.475224e+06  1.858206e+06\n",
              "max    2.359000e+03    2400.000000  ...  4.042322e+09  4.042322e+09\n",
              "\n",
              "[8 rows x 7 columns]"
            ]
          },
          "metadata": {
            "tags": []
          },
          "execution_count": 29
        }
      ]
    },
    {
      "cell_type": "markdown",
      "metadata": {
        "id": "b30ets2TOzK9",
        "colab_type": "text"
      },
      "source": []
    },
    {
      "cell_type": "code",
      "metadata": {
        "id": "2jzPjMAvB42-",
        "colab_type": "code",
        "colab": {
          "base_uri": "https://localhost:8080/",
          "height": 416
        },
        "outputId": "39b7f65a-bd3b-4529-f739-55ab7cf50d8d"
      },
      "source": [
        "# Percentage of missing data\n",
        "df.isna().sum()/len(df)*100"
      ],
      "execution_count": null,
      "outputs": [
        {
          "output_type": "execute_result",
          "data": {
            "text/plain": [
              "Ticket number              0.000000\n",
              "Issue Date                 0.016153\n",
              "Issue time                 0.040440\n",
              "Meter Id                  74.342564\n",
              "Marked Time               96.753429\n",
              "RP State Plate             0.012363\n",
              "Plate Expiry Date          9.268124\n",
              "VIN                       99.844667\n",
              "Make                       0.147561\n",
              "Body Style                 0.123226\n",
              "Color                      0.102168\n",
              "Location                   0.029059\n",
              "Route                      0.761073\n",
              "Agency                     0.015525\n",
              "Violation code             0.244852\n",
              "Violation Description      0.477999\n",
              "Fine amount                0.191068\n",
              "Latitude                   0.000067\n",
              "Longitude                  0.000067\n",
              "Agency Description        93.814390\n",
              "Color Description         94.043318\n",
              "Body Style Description    93.871355\n",
              "dtype: float64"
            ]
          },
          "metadata": {
            "tags": []
          },
          "execution_count": 30
        }
      ]
    },
    {
      "cell_type": "code",
      "metadata": {
        "id": "IVPb4o-mOINM",
        "colab_type": "code",
        "colab": {}
      },
      "source": [
        "# Function to prepare the time values so that they can be parsed\n",
        "def time_padding(time):\n",
        "  '''Adds extra zeros until there are 4 characters'''\n",
        "  time = str(int(time))\n",
        "  return '0'*(4-len(time)) + time"
      ],
      "execution_count": null,
      "outputs": []
    },
    {
      "cell_type": "code",
      "metadata": {
        "id": "q8nrUsNy6F7G",
        "colab_type": "code",
        "colab": {}
      },
      "source": [
        "df['Issue time'].fillna(0, inplace=True)\n",
        "\n",
        "# Apply padding to Issue_time\n",
        "df['Issue time'] = df['Issue time'].apply(time_padding)\n",
        "df['Datetime'] = pd.to_datetime(df['Issue Date'] + ' ' + df['Issue time'], \n",
        "                                format='%m/%d/%Y %H%M')\n",
        "df = df.drop(['Issue Date', 'Issue time'], axis=1)"
      ],
      "execution_count": null,
      "outputs": []
    },
    {
      "cell_type": "code",
      "metadata": {
        "id": "g4bKftg_DJuJ",
        "colab_type": "code",
        "colab": {
          "base_uri": "https://localhost:8080/",
          "height": 404
        },
        "outputId": "5f3ed809-8304-4be0-be3a-53a03ab173c9"
      },
      "source": [
        "plot_count = df['Datetime'].dt.year.value_counts().sort_index()\n",
        "plt.figure(figsize=(10 ,6))\n",
        "plt.bar(plot_count.index, plot_count)\n",
        "plt.title('Number of Citations by Year')\n",
        "plt.xlabel('Year')\n",
        "plt.ylabel('Number of Citations')\n",
        "plt.yscale('log')\n",
        "plt.show()"
      ],
      "execution_count": null,
      "outputs": [
        {
          "output_type": "display_data",
          "data": {
            "image/png": "[encoded data removed]",
            "text/plain": [
              "<Figure size 720x432 with 1 Axes>"
            ]
          },
          "metadata": {
            "tags": [],
            "needs_background": "light"
          }
        }
      ]
    },
    {
      "cell_type": "markdown",
      "metadata": {
        "id": "IB2pZWg9NJ2M",
        "colab_type": "text"
      },
      "source": [
        "Citations before 2008 and after 2020 are likely erroneous"
      ]
    },
    {
      "cell_type": "code",
      "metadata": {
        "id": "5UbqAg3wHgIe",
        "colab_type": "code",
        "colab": {
          "base_uri": "https://localhost:8080/",
          "height": 404
        },
        "outputId": "bbcaebbe-cc61-40d3-b7e5-0265f41f9163"
      },
      "source": [
        "mask = (df['Datetime'].dt.year > 2008) & (df['Datetime'].dt.year <= 2020)\n",
        "plot_count = df.loc[mask,'Datetime'].dt.year.value_counts().sort_index()\n",
        "plt.figure(figsize=(10 ,6))\n",
        "plt.bar(plot_count.index, plot_count)\n",
        "plt.title('Number of Citations by Year')\n",
        "plt.xlabel('Year')\n",
        "plt.ylabel('Number of Citations')\n",
        "plt.yscale('log')\n",
        "plt.show()"
      ],
      "execution_count": null,
      "outputs": [
        {
          "output_type": "display_data",
          "data": {
            "image/png": "[encoded data removed]",
            "text/plain": [
              "<Figure size 720x432 with 1 Axes>"
            ]
          },
          "metadata": {
            "tags": [],
            "needs_background": "light"
          }
        }
      ]
    },
    {
      "cell_type": "code",
      "metadata": {
        "id": "OgcmwL0uM7QR",
        "colab_type": "code",
        "colab": {}
      },
      "source": [
        "df = df.loc[mask].reset_index(drop=True)"
      ],
      "execution_count": null,
      "outputs": []
    },
    {
      "cell_type": "code",
      "metadata": {
        "id": "C1--tnoLQ9YB",
        "colab_type": "code",
        "colab": {
          "base_uri": "https://localhost:8080/",
          "height": 348
        },
        "outputId": "c7bdd0dc-1815-4882-c361-05abc5081dae"
      },
      "source": [
        "df.head()"
      ],
      "execution_count": null,
      "outputs": [
        {
          "output_type": "execute_result",
          "data": {
            "text/html": [
              "<div>\n",
              "<style scoped>\n",
              "    .dataframe tbody tr th:only-of-type {\n",
              "        vertical-align: middle;\n",
              "    }\n",
              "\n",
              "    .dataframe tbody tr th {\n",
              "        vertical-align: top;\n",
              "    }\n",
              "\n",
              "    .dataframe thead th {\n",
              "        text-align: right;\n",
              "    }\n",
              "</style>\n",
              "<table border=\"1\" class=\"dataframe\">\n",
              "  <thead>\n",
              "    <tr style=\"text-align: right;\">\n",
              "      <th></th>\n",
              "      <th>Ticket number</th>\n",
              "      <th>Meter Id</th>\n",
              "      <th>Marked Time</th>\n",
              "      <th>RP State Plate</th>\n",
              "      <th>Plate Expiry Date</th>\n",
              "      <th>VIN</th>\n",
              "      <th>Make</th>\n",
              "      <th>Body Style</th>\n",
              "      <th>Color</th>\n",
              "      <th>Location</th>\n",
              "      <th>Route</th>\n",
              "      <th>Agency</th>\n",
              "      <th>Violation code</th>\n",
              "      <th>Violation Description</th>\n",
              "      <th>Fine amount</th>\n",
              "      <th>Latitude</th>\n",
              "      <th>Longitude</th>\n",
              "      <th>Agency Description</th>\n",
              "      <th>Color Description</th>\n",
              "      <th>Body Style Description</th>\n",
              "      <th>Datetime</th>\n",
              "    </tr>\n",
              "  </thead>\n",
              "  <tbody>\n",
              "    <tr>\n",
              "      <th>0</th>\n",
              "      <td>1103341116</td>\n",
              "      <td>NaN</td>\n",
              "      <td>NaN</td>\n",
              "      <td>CA</td>\n",
              "      <td>200304.0</td>\n",
              "      <td>NaN</td>\n",
              "      <td>HOND</td>\n",
              "      <td>PA</td>\n",
              "      <td>GY</td>\n",
              "      <td>13147 WELBY WAY</td>\n",
              "      <td>01521</td>\n",
              "      <td>1.0</td>\n",
              "      <td>4000A1</td>\n",
              "      <td>NO EVIDENCE OF REG</td>\n",
              "      <td>50.0</td>\n",
              "      <td>99999.0</td>\n",
              "      <td>99999.0</td>\n",
              "      <td>NaN</td>\n",
              "      <td>NaN</td>\n",
              "      <td>NaN</td>\n",
              "      <td>2015-12-21 12:51:00</td>\n",
              "    </tr>\n",
              "    <tr>\n",
              "      <th>1</th>\n",
              "      <td>1103700150</td>\n",
              "      <td>NaN</td>\n",
              "      <td>NaN</td>\n",
              "      <td>CA</td>\n",
              "      <td>201512.0</td>\n",
              "      <td>NaN</td>\n",
              "      <td>GMC</td>\n",
              "      <td>VN</td>\n",
              "      <td>WH</td>\n",
              "      <td>525 S MAIN ST</td>\n",
              "      <td>1C51</td>\n",
              "      <td>1.0</td>\n",
              "      <td>4000A1</td>\n",
              "      <td>NO EVIDENCE OF REG</td>\n",
              "      <td>50.0</td>\n",
              "      <td>99999.0</td>\n",
              "      <td>99999.0</td>\n",
              "      <td>NaN</td>\n",
              "      <td>NaN</td>\n",
              "      <td>NaN</td>\n",
              "      <td>2015-12-21 14:35:00</td>\n",
              "    </tr>\n",
              "    <tr>\n",
              "      <th>2</th>\n",
              "      <td>1104803000</td>\n",
              "      <td>NaN</td>\n",
              "      <td>NaN</td>\n",
              "      <td>CA</td>\n",
              "      <td>201503.0</td>\n",
              "      <td>NaN</td>\n",
              "      <td>NISS</td>\n",
              "      <td>PA</td>\n",
              "      <td>BK</td>\n",
              "      <td>200 WORLD WAY</td>\n",
              "      <td>2R2</td>\n",
              "      <td>2.0</td>\n",
              "      <td>8939</td>\n",
              "      <td>WHITE CURB</td>\n",
              "      <td>58.0</td>\n",
              "      <td>6439997.9</td>\n",
              "      <td>1802686.4</td>\n",
              "      <td>NaN</td>\n",
              "      <td>NaN</td>\n",
              "      <td>NaN</td>\n",
              "      <td>2015-12-21 20:55:00</td>\n",
              "    </tr>\n",
              "    <tr>\n",
              "      <th>3</th>\n",
              "      <td>1104820732</td>\n",
              "      <td>NaN</td>\n",
              "      <td>NaN</td>\n",
              "      <td>CA</td>\n",
              "      <td>NaN</td>\n",
              "      <td>NaN</td>\n",
              "      <td>ACUR</td>\n",
              "      <td>PA</td>\n",
              "      <td>WH</td>\n",
              "      <td>100 WORLD WAY</td>\n",
              "      <td>2F11</td>\n",
              "      <td>2.0</td>\n",
              "      <td>000</td>\n",
              "      <td>17104h</td>\n",
              "      <td>NaN</td>\n",
              "      <td>6440041.1</td>\n",
              "      <td>1802686.2</td>\n",
              "      <td>NaN</td>\n",
              "      <td>NaN</td>\n",
              "      <td>NaN</td>\n",
              "      <td>2015-12-26 15:15:00</td>\n",
              "    </tr>\n",
              "    <tr>\n",
              "      <th>4</th>\n",
              "      <td>1105461453</td>\n",
              "      <td>NaN</td>\n",
              "      <td>NaN</td>\n",
              "      <td>CA</td>\n",
              "      <td>200316.0</td>\n",
              "      <td>NaN</td>\n",
              "      <td>CHEV</td>\n",
              "      <td>PA</td>\n",
              "      <td>BK</td>\n",
              "      <td>GEORGIA ST/OLYMPIC</td>\n",
              "      <td>1FB70</td>\n",
              "      <td>1.0</td>\n",
              "      <td>8069A</td>\n",
              "      <td>NO STOPPING/STANDING</td>\n",
              "      <td>93.0</td>\n",
              "      <td>99999.0</td>\n",
              "      <td>99999.0</td>\n",
              "      <td>NaN</td>\n",
              "      <td>NaN</td>\n",
              "      <td>NaN</td>\n",
              "      <td>2015-09-15 01:15:00</td>\n",
              "    </tr>\n",
              "  </tbody>\n",
              "</table>\n",
              "</div>"
            ],
            "text/plain": [
              "  Ticket number Meter Id  ...  Body Style Description            Datetime\n",
              "0    1103341116      NaN  ...                     NaN 2015-12-21 12:51:00\n",
              "1    1103700150      NaN  ...                     NaN 2015-12-21 14:35:00\n",
              "2    1104803000      NaN  ...                     NaN 2015-12-21 20:55:00\n",
              "3    1104820732      NaN  ...                     NaN 2015-12-26 15:15:00\n",
              "4    1105461453      NaN  ...                     NaN 2015-09-15 01:15:00\n",
              "\n",
              "[5 rows x 21 columns]"
            ]
          },
          "metadata": {
            "tags": []
          },
          "execution_count": 35
        }
      ]
    },
    {
      "cell_type": "code",
      "metadata": {
        "id": "ckQh9dOTRA1e",
        "colab_type": "code",
        "colab": {
          "base_uri": "https://localhost:8080/",
          "height": 260
        },
        "outputId": "15603e7e-2454-40af-8ef5-97e2a0fbfca9"
      },
      "source": [
        "df['Meter Id'].unique()[:100]"
      ],
      "execution_count": null,
      "outputs": [
        {
          "output_type": "execute_result",
          "data": {
            "text/plain": [
              "array([nan, 'WF55', 'WF54', 'WF177A', 'WF99', 'WF100', 'CB1463B', 'VH73',\n",
              "       'VH220', 'VH14', '25', '45', '13', 'WF192', 'BF430', 'L80',\n",
              "       'HO6630', 'HO6632', 'HO966', 'HO133', 'L233', 'L16940', 'LT72',\n",
              "       'CC1235', 'CB3168', 'SW235', 'V6127', 'V27610', 'V117', 'V6125',\n",
              "       'V74', 'V102', 'V6123', 'V166', 'V212', 'V207', 'V6126', 'V6128',\n",
              "       'V111', 'PW442', 'OS164', 'OS142', 'OS467', 'OS162', 'OS570',\n",
              "       'OS566', 'OS558', 'OS697', 'WS512', '11', 'WW2533', '36', 'WW303',\n",
              "       'SVV345', '03', 'WU490', 'WU642', 'WU985A', 'SA117', 'SA115',\n",
              "       'SA131', 'CB3695', 'WA654', 'WA663', 'VW303', 'VW302', 'VW607',\n",
              "       'WA749', 'WA883', 'WA891', 'WA836', 'WA907', 'WA1324', 'WA1344',\n",
              "       'WA1283', 'WA1278', 'WA1291', 'WA687', 'PR267', 'MM785', '30',\n",
              "       'BF673', 'BF575', 'BF593A', 'BF697', 'SG72', 'SG87', 'SG99',\n",
              "       'SG98', 'SG103', 'SG108', 'SG109', 'SG229', 'SG146', 'L213', 'L99',\n",
              "       'L104', 'SVV52', 'SVV77', 'HW278'], dtype=object)"
            ]
          },
          "metadata": {
            "tags": []
          },
          "execution_count": 38
        }
      ]
    },
    {
      "cell_type": "markdown",
      "metadata": {
        "id": "2bLgq9QDVGjF",
        "colab_type": "text"
      },
      "source": [
        "The 'Meter Id' column is missing nearly 75% of its data and includes \n",
        "\n"
      ]
    },
    {
      "cell_type": "code",
      "metadata": {
        "id": "HJcUW4ybRMxp",
        "colab_type": "code",
        "colab": {
          "base_uri": "https://localhost:8080/",
          "height": 225
        },
        "outputId": "0e996278-903a-4afa-8eb9-058532e0595b"
      },
      "source": [
        "df['Marked Time'].unique()[:100]"
      ],
      "execution_count": null,
      "outputs": [
        {
          "output_type": "execute_result",
          "data": {
            "text/plain": [
              "array([  nan, 1122., 1145., 1124., 1130.,  820., 1817., 1110.,  944.,\n",
              "        856., 1326.,  814.,  813.,  822.,  831.,  833.,  838.,  842.,\n",
              "       1000.,  950.,  835.,  930.,  900.,  816.,  800.,  803.,  804.,\n",
              "       1256.,  910.,  931.,  941., 1033., 1058., 1012., 1005., 1255.,\n",
              "       1300., 1305., 1310., 1500., 1700., 1120., 1134., 1040., 1210.,\n",
              "        955.,  940., 1119., 1057., 1101., 1104., 1113., 1242., 1254.,\n",
              "       1357., 1346., 1447., 1458., 1545., 1555., 1630., 1035., 1045.,\n",
              "       1105., 1100., 1313., 1311., 1230., 1240., 1316., 1050., 1054.,\n",
              "       1109., 1206., 1218., 1014., 1021., 1022., 1150., 1055., 1009.,\n",
              "       1328.,  855.,  854.,  925.,  933.,  810., 1013., 1007., 1131.,\n",
              "       1155., 1200., 1039., 1037., 1115., 1220., 1140.,  839.,  849.,\n",
              "        853.])"
            ]
          },
          "metadata": {
            "tags": []
          },
          "execution_count": 37
        }
      ]
    },
    {
      "cell_type": "code",
      "metadata": {
        "id": "7SrirTxxOqvG",
        "colab_type": "code",
        "colab": {
          "base_uri": "https://localhost:8080/",
          "height": 243
        },
        "outputId": "7713fc8d-9928-4af2-a0c5-94d3e18401e3"
      },
      "source": [
        "df.loc[df['Marked Time'].notna(), 'Marked Time'].apply(time_padding).unique()[:100]"
      ],
      "execution_count": null,
      "outputs": [
        {
          "output_type": "execute_result",
          "data": {
            "text/plain": [
              "array(['1122', '1145', '1124', '1130', '0820', '1817', '1110', '0944',\n",
              "       '0856', '1326', '0814', '0813', '0822', '0831', '0833', '0838',\n",
              "       '0842', '1000', '0950', '0835', '0930', '0900', '0816', '0800',\n",
              "       '0803', '0804', '1256', '0910', '0931', '0941', '1033', '1058',\n",
              "       '1012', '1005', '1255', '1300', '1305', '1310', '1500', '1700',\n",
              "       '1120', '1134', '1040', '1210', '0955', '0940', '1119', '1057',\n",
              "       '1101', '1104', '1113', '1242', '1254', '1357', '1346', '1447',\n",
              "       '1458', '1545', '1555', '1630', '1035', '1045', '1105', '1100',\n",
              "       '1313', '1311', '1230', '1240', '1316', '1050', '1054', '1109',\n",
              "       '1206', '1218', '1014', '1021', '1022', '1150', '1055', '1009',\n",
              "       '1328', '0855', '0854', '0925', '0933', '0810', '1013', '1007',\n",
              "       '1131', '1155', '1200', '1039', '1037', '1115', '1220', '1140',\n",
              "       '0839', '0849', '0853', '0805'], dtype=object)"
            ]
          },
          "metadata": {
            "tags": []
          },
          "execution_count": 36
        }
      ]
    },
    {
      "cell_type": "code",
      "metadata": {
        "id": "41OTHq1gkZVP",
        "colab_type": "code",
        "colab": {
          "base_uri": "https://localhost:8080/",
          "height": 295
        },
        "outputId": "5985e964-d7f9-4333-8d9c-c657f38e2b28"
      },
      "source": [
        "time_counts = pd.to_datetime(df.loc[df['Marked Time'].notna(), 'Marked Time'].apply(time_padding), format='%H%M', errors='coerce').dt.hour.value_counts()\n",
        "plt.bar(time_counts.index, time_counts)\n",
        "plt.title('Marked Time by Hour')\n",
        "plt.ylabel('Number of Citations')\n",
        "plt.xlabel('Hour')\n",
        "plt.show()"
      ],
      "execution_count": null,
      "outputs": [
        {
          "output_type": "display_data",
          "data": {
            "image/png": "[encoded data removed]",
            "text/plain": [
              "<Figure size 432x288 with 1 Axes>"
            ]
          },
          "metadata": {
            "tags": [],
            "needs_background": "light"
          }
        }
      ]
    },
    {
      "cell_type": "markdown",
      "metadata": {
        "id": "puR0YJSFNBdM",
        "colab_type": "text"
      },
      "source": [
        "The 'Marked Time' column is missing 96% of its data. It consists of time stamps in a 24 hr format."
      ]
    },
    {
      "cell_type": "code",
      "metadata": {
        "id": "Y6nQl53jRzuI",
        "colab_type": "code",
        "colab": {}
      },
      "source": [
        "state_plate_df = df['RP State Plate'].value_counts().reset_index()\n",
        "state_plate_df.columns = ['state', 'plate_count']"
      ],
      "execution_count": 11,
      "outputs": []
    },
    {
      "cell_type": "code",
      "metadata": {
        "id": "NhkHs_v0Ja73",
        "colab_type": "code",
        "colab": {
          "base_uri": "https://localhost:8080/",
          "height": 363
        },
        "outputId": "ea5ab066-4c3b-425d-e7f0-cce1a24f69ae"
      },
      "source": [
        "state_plate_df.head(10)"
      ],
      "execution_count": 12,
      "outputs": [
        {
          "output_type": "execute_result",
          "data": {
            "text/html": [
              "<div>\n",
              "<style scoped>\n",
              "    .dataframe tbody tr th:only-of-type {\n",
              "        vertical-align: middle;\n",
              "    }\n",
              "\n",
              "    .dataframe tbody tr th {\n",
              "        vertical-align: top;\n",
              "    }\n",
              "\n",
              "    .dataframe thead th {\n",
              "        text-align: right;\n",
              "    }\n",
              "</style>\n",
              "<table border=\"1\" class=\"dataframe\">\n",
              "  <thead>\n",
              "    <tr style=\"text-align: right;\">\n",
              "      <th></th>\n",
              "      <th>state</th>\n",
              "      <th>plate_count</th>\n",
              "    </tr>\n",
              "  </thead>\n",
              "  <tbody>\n",
              "    <tr>\n",
              "      <th>0</th>\n",
              "      <td>CA</td>\n",
              "      <td>9779535</td>\n",
              "    </tr>\n",
              "    <tr>\n",
              "      <th>1</th>\n",
              "      <td>AZ</td>\n",
              "      <td>93420</td>\n",
              "    </tr>\n",
              "    <tr>\n",
              "      <th>2</th>\n",
              "      <td>TX</td>\n",
              "      <td>66331</td>\n",
              "    </tr>\n",
              "    <tr>\n",
              "      <th>3</th>\n",
              "      <td>NV</td>\n",
              "      <td>61875</td>\n",
              "    </tr>\n",
              "    <tr>\n",
              "      <th>4</th>\n",
              "      <td>FL</td>\n",
              "      <td>46165</td>\n",
              "    </tr>\n",
              "    <tr>\n",
              "      <th>5</th>\n",
              "      <td>WA</td>\n",
              "      <td>41378</td>\n",
              "    </tr>\n",
              "    <tr>\n",
              "      <th>6</th>\n",
              "      <td>IL</td>\n",
              "      <td>29530</td>\n",
              "    </tr>\n",
              "    <tr>\n",
              "      <th>7</th>\n",
              "      <td>OR</td>\n",
              "      <td>29321</td>\n",
              "    </tr>\n",
              "    <tr>\n",
              "      <th>8</th>\n",
              "      <td>CO</td>\n",
              "      <td>26594</td>\n",
              "    </tr>\n",
              "    <tr>\n",
              "      <th>9</th>\n",
              "      <td>NY</td>\n",
              "      <td>19373</td>\n",
              "    </tr>\n",
              "  </tbody>\n",
              "</table>\n",
              "</div>"
            ],
            "text/plain": [
              "  state  plate_count\n",
              "0    CA      9779535\n",
              "1    AZ        93420\n",
              "2    TX        66331\n",
              "3    NV        61875\n",
              "4    FL        46165\n",
              "5    WA        41378\n",
              "6    IL        29530\n",
              "7    OR        29321\n",
              "8    CO        26594\n",
              "9    NY        19373"
            ]
          },
          "metadata": {
            "tags": []
          },
          "execution_count": 12
        }
      ]
    },
    {
      "cell_type": "code",
      "metadata": {
        "id": "QeuTkyCiL9PL",
        "colab_type": "code",
        "colab": {}
      },
      "source": [
        "# Geopandas can calculate distance of nearby objects but distance objects\n",
        "# need a different formula\n",
        "def distance(source , destination): \n",
        "  '''Haversine formula for distance on a sphere in miles'''\n",
        "  lat1, lon1 = source [0],source [1]\n",
        "  lat2, lon2 = destination[0],destination[1]\n",
        "  radius = 3956 # mi\n",
        "  dlat = math.radians(lat2-lat1)\n",
        "  dlon = math.radians(lon2-lon1)\n",
        "  a = math.sin(dlat/2) * math.sin(dlat/2) + math.cos(math.radians(lat1)) \\\n",
        "      * math.cos(math.radians(lat2)) * math.sin(dlon/2) * math.sin(dlon/2)\n",
        "  c = 2 * math.atan2(math.sqrt(a), math.sqrt(1-a))\n",
        "  d = radius * c\n",
        "  return d"
      ],
      "execution_count": 13,
      "outputs": []
    },
    {
      "cell_type": "code",
      "metadata": {
        "id": "KTYfENsLIr_w",
        "colab_type": "code",
        "colab": {}
      },
      "source": [
        "# Formula to calculate distance between California and other states\n",
        "def state_dist(state):\n",
        "  '''Formula to calculate distance between CA and other states'''\n",
        "  state_intersect = set(df['RP State Plate']).intersection(set(states.STUSPS))\n",
        "  calif_coords = states.loc[states.STUSPS == 'CA', ['INTPTLAT', 'INTPTLON']].values.astype(float)[0]\n",
        "  calif_dist_dict = { state.STUSPS : distance(calif_coords,(float(state.INTPTLAT),float(state.INTPTLON))) for ind, state in states.iterrows()}\n",
        "  if state in state_intersect:\n",
        "    return calif_dist_dict[state]\n",
        "  else:\n",
        "    return np.nan"
      ],
      "execution_count": 14,
      "outputs": []
    },
    {
      "cell_type": "code",
      "metadata": {
        "id": "cXiNYAQLRJ3e",
        "colab_type": "code",
        "colab": {
          "base_uri": "https://localhost:8080/",
          "height": 206
        },
        "outputId": "252e6a92-df31-4eea-ca6e-da53ab1e350b"
      },
      "source": [
        "state_plate_df['dist_ca'] = state_plate_df.state.apply(state_dist).round(1)\n",
        "state_plate_df_inters = state_plate_df.loc[state_plate_df[state_plate_df.dist_ca.notna()].index]\n",
        "state_plate_df_inters.head()"
      ],
      "execution_count": 26,
      "outputs": [
        {
          "output_type": "execute_result",
          "data": {
            "text/html": [
              "<div>\n",
              "<style scoped>\n",
              "    .dataframe tbody tr th:only-of-type {\n",
              "        vertical-align: middle;\n",
              "    }\n",
              "\n",
              "    .dataframe tbody tr th {\n",
              "        vertical-align: top;\n",
              "    }\n",
              "\n",
              "    .dataframe thead th {\n",
              "        text-align: right;\n",
              "    }\n",
              "</style>\n",
              "<table border=\"1\" class=\"dataframe\">\n",
              "  <thead>\n",
              "    <tr style=\"text-align: right;\">\n",
              "      <th></th>\n",
              "      <th>state</th>\n",
              "      <th>plate_count</th>\n",
              "      <th>dist_ca</th>\n",
              "    </tr>\n",
              "  </thead>\n",
              "  <tbody>\n",
              "    <tr>\n",
              "      <th>0</th>\n",
              "      <td>CA</td>\n",
              "      <td>9779535</td>\n",
              "      <td>0.0</td>\n",
              "    </tr>\n",
              "    <tr>\n",
              "      <th>1</th>\n",
              "      <td>AZ</td>\n",
              "      <td>93420</td>\n",
              "      <td>489.3</td>\n",
              "    </tr>\n",
              "    <tr>\n",
              "      <th>2</th>\n",
              "      <td>TX</td>\n",
              "      <td>66331</td>\n",
              "      <td>1218.5</td>\n",
              "    </tr>\n",
              "    <tr>\n",
              "      <th>3</th>\n",
              "      <td>NV</td>\n",
              "      <td>61875</td>\n",
              "      <td>218.6</td>\n",
              "    </tr>\n",
              "    <tr>\n",
              "      <th>4</th>\n",
              "      <td>FL</td>\n",
              "      <td>46165</td>\n",
              "      <td>2221.6</td>\n",
              "    </tr>\n",
              "  </tbody>\n",
              "</table>\n",
              "</div>"
            ],
            "text/plain": [
              "  state  plate_count  dist_ca\n",
              "0    CA      9779535      0.0\n",
              "1    AZ        93420    489.3\n",
              "2    TX        66331   1218.5\n",
              "3    NV        61875    218.6\n",
              "4    FL        46165   2221.6"
            ]
          },
          "metadata": {
            "tags": []
          },
          "execution_count": 26
        }
      ]
    },
    {
      "cell_type": "code",
      "metadata": {
        "id": "x0Abw38AMGqx",
        "colab_type": "code",
        "colab": {
          "base_uri": "https://localhost:8080/",
          "height": 513
        },
        "outputId": "0e9f4443-e22c-4d70-87d3-c0795a3dc1ca"
      },
      "source": [
        "# Plot of distance between state of citation vehicle and CA vs number of citations\n",
        "plt.figure(figsize=(12,8))\n",
        "plt.scatter(state_plate_df.loc[state_plate_df_inters.index].dist_ca, \n",
        "            state_plate_df.loc[state_plate_df_inters.index, 'plate_count'])\n",
        "plt.yscale('log')\n",
        "plt.title('State Distance from California vs Number of Citations by State')\n",
        "plt.ylabel('Number of Citations')\n",
        "plt.xlabel('Distance from California')\n",
        "plt.show()"
      ],
      "execution_count": 16,
      "outputs": [
        {
          "output_type": "display_data",
          "data": {
            "image/png": "[encoded data removed]",
            "text/plain": [
              "<Figure size 864x576 with 1 Axes>"
            ]
          },
          "metadata": {
            "tags": [],
            "needs_background": "light"
          }
        }
      ]
    },
    {
      "cell_type": "markdown",
      "metadata": {
        "id": "Ft17Gw3ehLt4",
        "colab_type": "text"
      },
      "source": [
        "The graph with the a log scale for the number of citations is roughly linear, so it would make sense to check the correlation of the log of the number of citations."
      ]
    },
    {
      "cell_type": "code",
      "metadata": {
        "id": "IICOfr-GgyR1",
        "colab_type": "code",
        "colab": {
          "base_uri": "https://localhost:8080/",
          "height": 143
        },
        "outputId": "7801f9bd-de1b-439e-82d6-08a4b52631b7"
      },
      "source": [
        "# Correlation table with log citation count\n",
        "spdi_log = state_plate_df_inters.copy()\n",
        "spdi_log['log_plate_count'] = spdi_log['plate_count'].apply(np.log)\n",
        "spdi_log.corr().round(3)"
      ],
      "execution_count": 22,
      "outputs": [
        {
          "output_type": "execute_result",
          "data": {
            "text/html": [
              "<div>\n",
              "<style scoped>\n",
              "    .dataframe tbody tr th:only-of-type {\n",
              "        vertical-align: middle;\n",
              "    }\n",
              "\n",
              "    .dataframe tbody tr th {\n",
              "        vertical-align: top;\n",
              "    }\n",
              "\n",
              "    .dataframe thead th {\n",
              "        text-align: right;\n",
              "    }\n",
              "</style>\n",
              "<table border=\"1\" class=\"dataframe\">\n",
              "  <thead>\n",
              "    <tr style=\"text-align: right;\">\n",
              "      <th></th>\n",
              "      <th>plate_count</th>\n",
              "      <th>dist_ca</th>\n",
              "      <th>log_plate_count</th>\n",
              "    </tr>\n",
              "  </thead>\n",
              "  <tbody>\n",
              "    <tr>\n",
              "      <th>plate_count</th>\n",
              "      <td>1.000</td>\n",
              "      <td>-0.247</td>\n",
              "      <td>0.501</td>\n",
              "    </tr>\n",
              "    <tr>\n",
              "      <th>dist_ca</th>\n",
              "      <td>-0.247</td>\n",
              "      <td>1.000</td>\n",
              "      <td>-0.711</td>\n",
              "    </tr>\n",
              "    <tr>\n",
              "      <th>log_plate_count</th>\n",
              "      <td>0.501</td>\n",
              "      <td>-0.711</td>\n",
              "      <td>1.000</td>\n",
              "    </tr>\n",
              "  </tbody>\n",
              "</table>\n",
              "</div>"
            ],
            "text/plain": [
              "                 plate_count  dist_ca  log_plate_count\n",
              "plate_count            1.000   -0.247            0.501\n",
              "dist_ca               -0.247    1.000           -0.711\n",
              "log_plate_count        0.501   -0.711            1.000"
            ]
          },
          "metadata": {
            "tags": []
          },
          "execution_count": 22
        }
      ]
    },
    {
      "cell_type": "code",
      "metadata": {
        "id": "odL9W26wiIXj",
        "colab_type": "code",
        "colab": {
          "base_uri": "https://localhost:8080/",
          "height": 104
        },
        "outputId": "a2684f37-d034-4b10-e886-92e5767c9ef9"
      },
      "source": [
        "# State/territory most distant from California\n",
        "spdi_log.loc[spdi_log.dist_ca.idxmax()]"
      ],
      "execution_count": null,
      "outputs": [
        {
          "output_type": "execute_result",
          "data": {
            "text/plain": [
              "state                   GU\n",
              "plate_count             29\n",
              "dist_ca            5962.33\n",
              "log_plate_count     3.3673\n",
              "Name: 68, dtype: object"
            ]
          },
          "metadata": {
            "tags": []
          },
          "execution_count": 33
        }
      ]
    },
    {
      "cell_type": "markdown",
      "metadata": {
        "id": "m2xLuNjNhllM",
        "colab_type": "text"
      },
      "source": [
        "We find that the distance between the state where the car is from and the log of the number of citations of that state have a correlation of -0.71. So closer the state, the higher the number of citations, with California having 9.8M citations and Guam being 6K miles away and having only 29 citations total."
      ]
    },
    {
      "cell_type": "code",
      "metadata": {
        "id": "Ej2_XN86cDx6",
        "colab_type": "code",
        "colab": {
          "base_uri": "https://localhost:8080/",
          "height": 243
        },
        "outputId": "d98f8a4b-cdb9-44d1-babc-bab2529fbc18"
      },
      "source": [
        "df.loc[df['Plate Expiry Date'].notna(),'Plate Expiry Date'].astype(int).unique()[:100]"
      ],
      "execution_count": null,
      "outputs": [
        {
          "output_type": "execute_result",
          "data": {
            "text/plain": [
              "array([200304, 201512, 201503, 200316, 201507, 201605, 201602, 201701,\n",
              "       201511, 201607, 201611, 201502, 201606, 201509, 201603, 201610,\n",
              "       201601, 201510, 201506, 201604, 201608, 201508, 201504, 201505,\n",
              "       201407, 201609, 201702, 201412, 201212, 200815, 201403, 201410,\n",
              "       201501, 201905, 201612, 201408, 200906,      1,      8, 201712,\n",
              "       201903, 201102,      3,      4,     12,      9,      6,      5,\n",
              "       201304,      2,     11,      7,     10, 201706, 201206, 201307,\n",
              "       201302, 200106, 201901, 201709, 200104, 201708, 200505, 201411,\n",
              "       201704, 201110, 201101, 200105, 201308, 201106, 201705, 201409,\n",
              "       201703, 201108, 201710, 201902, 201111, 201402, 209912, 201909,\n",
              "       201707, 201404, 201405, 200103, 201309, 209009, 201209, 200615,\n",
              "       201205, 200514, 201211, 201010, 200710, 200810, 200916, 200616,\n",
              "       200716, 201311, 201711, 201103])"
            ]
          },
          "metadata": {
            "tags": []
          },
          "execution_count": 14
        }
      ]
    },
    {
      "cell_type": "markdown",
      "metadata": {
        "id": "DXOYx3wseG86",
        "colab_type": "text"
      },
      "source": [
        "Plate expiry dates seem to be in the format 'year''month', but there are many examples of dates into the far future ie 2099 and months that go beyond 12. I'll parse the dates but add them as a separate column"
      ]
    },
    {
      "cell_type": "markdown",
      "metadata": {
        "id": "GjoLbZxbalvp",
        "colab_type": "text"
      },
      "source": [
        "The top state plates refer to California and neighboring states but there are a few anomalies like MX (probably referring to Mexico), AB (Alberta, Canada), and TT (tow truck).\n",
        "http://www.nyc.gov/html/dof/html/pdf/faq/stars_codes.pdf"
      ]
    },
    {
      "cell_type": "code",
      "metadata": {
        "id": "tAhSJl3pfROX",
        "colab_type": "code",
        "colab": {}
      },
      "source": [
        "df['Plate Expiry Date Parsed'] = pd.to_datetime(df['Plate Expiry Date'],format='%Y%m', errors='coerce')"
      ],
      "execution_count": null,
      "outputs": []
    },
    {
      "cell_type": "code",
      "metadata": {
        "id": "T-gjyxL-nZrn",
        "colab_type": "code",
        "colab": {
          "base_uri": "https://localhost:8080/",
          "height": 404
        },
        "outputId": "ac0b410b-9623-43b2-c6e4-a17a6ca6bc8c"
      },
      "source": [
        "plate_expiry = df['Plate Expiry Date Parsed'].dt.year.value_counts().sort_index()\n",
        "plt.figure(figsize=(10 ,6))\n",
        "plt.bar(plate_expiry.index, plate_expiry)\n",
        "plt.title('Plate Expiry Date')\n",
        "plt.xlabel('Year')\n",
        "plt.ylabel('Number of Citations')\n",
        "plt.yscale('log')\n",
        "plt.show()"
      ],
      "execution_count": null,
      "outputs": [
        {
          "output_type": "display_data",
          "data": {
            "image/png": "[encoded data removed]",
            "text/plain": [
              "<Figure size 720x432 with 1 Axes>"
            ]
          },
          "metadata": {
            "tags": [],
            "needs_background": "light"
          }
        }
      ]
    },
    {
      "cell_type": "markdown",
      "metadata": {
        "id": "in6bO_50tV_m",
        "colab_type": "text"
      },
      "source": [
        "Car registry dates are only given 2 years into the future so at most they should only go up to 2022 and everything else should be filtered out"
      ]
    },
    {
      "cell_type": "code",
      "metadata": {
        "id": "X--pXnzPnbfy",
        "colab_type": "code",
        "colab": {}
      },
      "source": [
        "df.loc[df['Plate Expiry Date Parsed'].dt.year > 2021, 'Plate Expiry Date Parsed'] = np.nan"
      ],
      "execution_count": null,
      "outputs": []
    },
    {
      "cell_type": "code",
      "metadata": {
        "id": "NqIvAtXJ0Iln",
        "colab_type": "code",
        "colab": {
          "base_uri": "https://localhost:8080/",
          "height": 404
        },
        "outputId": "da7bcb37-09b3-471e-8f70-9bbf5ddaea55"
      },
      "source": [
        "plate_expiry = df['Plate Expiry Date Parsed'].dt.year.value_counts().sort_index()\n",
        "plt.figure(figsize=(10 ,6))\n",
        "plt.bar(plate_expiry.index, plate_expiry)\n",
        "plt.title('Plate Expiry Date')\n",
        "plt.xlabel('Year')\n",
        "plt.ylabel('Number of Citations')\n",
        "plt.yscale('log')\n",
        "plt.show()"
      ],
      "execution_count": null,
      "outputs": [
        {
          "output_type": "display_data",
          "data": {
            "image/png": "[encoded data removed]",
            "text/plain": [
              "<Figure size 720x432 with 1 Axes>"
            ]
          },
          "metadata": {
            "tags": [],
            "needs_background": "light"
          }
        }
      ]
    },
    {
      "cell_type": "markdown",
      "metadata": {
        "id": "VjrEqcfowJL1",
        "colab_type": "text"
      },
      "source": [
        "The early dates are kept because it seems very plausible that there are people driving around with expired plates."
      ]
    },
    {
      "cell_type": "code",
      "metadata": {
        "id": "hfWA8-yeiXmP",
        "colab_type": "code",
        "colab": {
          "base_uri": "https://localhost:8080/",
          "height": 669
        },
        "outputId": "be1c6283-03f2-47e7-c19c-d9032aa022c9"
      },
      "source": [
        "df.loc[df['Plate Expiry Date Parsed'].notna()]"
      ],
      "execution_count": 10,
      "outputs": [
        {
          "output_type": "execute_result",
          "data": {
            "text/html": [
              "<div>\n",
              "<style scoped>\n",
              "    .dataframe tbody tr th:only-of-type {\n",
              "        vertical-align: middle;\n",
              "    }\n",
              "\n",
              "    .dataframe tbody tr th {\n",
              "        vertical-align: top;\n",
              "    }\n",
              "\n",
              "    .dataframe thead th {\n",
              "        text-align: right;\n",
              "    }\n",
              "</style>\n",
              "<table border=\"1\" class=\"dataframe\">\n",
              "  <thead>\n",
              "    <tr style=\"text-align: right;\">\n",
              "      <th></th>\n",
              "      <th>Ticket number</th>\n",
              "      <th>Meter Id</th>\n",
              "      <th>Marked Time</th>\n",
              "      <th>RP State Plate</th>\n",
              "      <th>Plate Expiry Date</th>\n",
              "      <th>VIN</th>\n",
              "      <th>Make</th>\n",
              "      <th>Body Style</th>\n",
              "      <th>Color</th>\n",
              "      <th>Location</th>\n",
              "      <th>Route</th>\n",
              "      <th>Agency</th>\n",
              "      <th>Violation code</th>\n",
              "      <th>Violation Description</th>\n",
              "      <th>Fine amount</th>\n",
              "      <th>Latitude</th>\n",
              "      <th>Longitude</th>\n",
              "      <th>Agency Description</th>\n",
              "      <th>Color Description</th>\n",
              "      <th>Body Style Description</th>\n",
              "      <th>Datetime</th>\n",
              "      <th>Plate Expiry Date Parsed</th>\n",
              "    </tr>\n",
              "  </thead>\n",
              "  <tbody>\n",
              "    <tr>\n",
              "      <th>0</th>\n",
              "      <td>1103341116</td>\n",
              "      <td>NaN</td>\n",
              "      <td>NaN</td>\n",
              "      <td>CA</td>\n",
              "      <td>200304.0</td>\n",
              "      <td>NaN</td>\n",
              "      <td>HOND</td>\n",
              "      <td>PA</td>\n",
              "      <td>GY</td>\n",
              "      <td>13147 WELBY WAY</td>\n",
              "      <td>01521</td>\n",
              "      <td>1.0</td>\n",
              "      <td>4000A1</td>\n",
              "      <td>NO EVIDENCE OF REG</td>\n",
              "      <td>50.0</td>\n",
              "      <td>9.999900e+04</td>\n",
              "      <td>9.999900e+04</td>\n",
              "      <td>NaN</td>\n",
              "      <td>NaN</td>\n",
              "      <td>NaN</td>\n",
              "      <td>2015-12-21 12:51:00</td>\n",
              "      <td>2003-04-01</td>\n",
              "    </tr>\n",
              "    <tr>\n",
              "      <th>1</th>\n",
              "      <td>1103700150</td>\n",
              "      <td>NaN</td>\n",
              "      <td>NaN</td>\n",
              "      <td>CA</td>\n",
              "      <td>201512.0</td>\n",
              "      <td>NaN</td>\n",
              "      <td>GMC</td>\n",
              "      <td>VN</td>\n",
              "      <td>WH</td>\n",
              "      <td>525 S MAIN ST</td>\n",
              "      <td>1C51</td>\n",
              "      <td>1.0</td>\n",
              "      <td>4000A1</td>\n",
              "      <td>NO EVIDENCE OF REG</td>\n",
              "      <td>50.0</td>\n",
              "      <td>9.999900e+04</td>\n",
              "      <td>9.999900e+04</td>\n",
              "      <td>NaN</td>\n",
              "      <td>NaN</td>\n",
              "      <td>NaN</td>\n",
              "      <td>2015-12-21 14:35:00</td>\n",
              "      <td>2015-12-01</td>\n",
              "    </tr>\n",
              "    <tr>\n",
              "      <th>2</th>\n",
              "      <td>1104803000</td>\n",
              "      <td>NaN</td>\n",
              "      <td>NaN</td>\n",
              "      <td>CA</td>\n",
              "      <td>201503.0</td>\n",
              "      <td>NaN</td>\n",
              "      <td>NISS</td>\n",
              "      <td>PA</td>\n",
              "      <td>BK</td>\n",
              "      <td>200 WORLD WAY</td>\n",
              "      <td>2R2</td>\n",
              "      <td>2.0</td>\n",
              "      <td>8939</td>\n",
              "      <td>WHITE CURB</td>\n",
              "      <td>58.0</td>\n",
              "      <td>6.439998e+06</td>\n",
              "      <td>1.802686e+06</td>\n",
              "      <td>NaN</td>\n",
              "      <td>NaN</td>\n",
              "      <td>NaN</td>\n",
              "      <td>2015-12-21 20:55:00</td>\n",
              "      <td>2015-03-01</td>\n",
              "    </tr>\n",
              "    <tr>\n",
              "      <th>5</th>\n",
              "      <td>1106226590</td>\n",
              "      <td>NaN</td>\n",
              "      <td>NaN</td>\n",
              "      <td>CA</td>\n",
              "      <td>201507.0</td>\n",
              "      <td>NaN</td>\n",
              "      <td>CHEV</td>\n",
              "      <td>VN</td>\n",
              "      <td>GY</td>\n",
              "      <td>SAN PEDRO S/O BOYD</td>\n",
              "      <td>1A35W</td>\n",
              "      <td>1.0</td>\n",
              "      <td>4000A1</td>\n",
              "      <td>NO EVIDENCE OF REG</td>\n",
              "      <td>50.0</td>\n",
              "      <td>9.999900e+04</td>\n",
              "      <td>9.999900e+04</td>\n",
              "      <td>NaN</td>\n",
              "      <td>NaN</td>\n",
              "      <td>NaN</td>\n",
              "      <td>2015-09-15 00:19:00</td>\n",
              "      <td>2015-07-01</td>\n",
              "    </tr>\n",
              "    <tr>\n",
              "      <th>6</th>\n",
              "      <td>1106500452</td>\n",
              "      <td>NaN</td>\n",
              "      <td>NaN</td>\n",
              "      <td>CA</td>\n",
              "      <td>201605.0</td>\n",
              "      <td>NaN</td>\n",
              "      <td>MAZD</td>\n",
              "      <td>PA</td>\n",
              "      <td>BL</td>\n",
              "      <td>SUNSET/ALVARADO</td>\n",
              "      <td>00217</td>\n",
              "      <td>1.0</td>\n",
              "      <td>8070</td>\n",
              "      <td>PARK IN GRID LOCK ZN</td>\n",
              "      <td>163.0</td>\n",
              "      <td>9.999900e+04</td>\n",
              "      <td>9.999900e+04</td>\n",
              "      <td>NaN</td>\n",
              "      <td>NaN</td>\n",
              "      <td>NaN</td>\n",
              "      <td>2015-12-17 17:10:00</td>\n",
              "      <td>2016-05-01</td>\n",
              "    </tr>\n",
              "    <tr>\n",
              "      <th>...</th>\n",
              "      <td>...</td>\n",
              "      <td>...</td>\n",
              "      <td>...</td>\n",
              "      <td>...</td>\n",
              "      <td>...</td>\n",
              "      <td>...</td>\n",
              "      <td>...</td>\n",
              "      <td>...</td>\n",
              "      <td>...</td>\n",
              "      <td>...</td>\n",
              "      <td>...</td>\n",
              "      <td>...</td>\n",
              "      <td>...</td>\n",
              "      <td>...</td>\n",
              "      <td>...</td>\n",
              "      <td>...</td>\n",
              "      <td>...</td>\n",
              "      <td>...</td>\n",
              "      <td>...</td>\n",
              "      <td>...</td>\n",
              "      <td>...</td>\n",
              "      <td>...</td>\n",
              "    </tr>\n",
              "    <tr>\n",
              "      <th>10497668</th>\n",
              "      <td>1121859325</td>\n",
              "      <td>NaN</td>\n",
              "      <td>NaN</td>\n",
              "      <td>CA</td>\n",
              "      <td>202107.0</td>\n",
              "      <td>NaN</td>\n",
              "      <td>TOYO</td>\n",
              "      <td>PA</td>\n",
              "      <td>BK</td>\n",
              "      <td>727 N BROADWAY</td>\n",
              "      <td>1FB12</td>\n",
              "      <td>1.0</td>\n",
              "      <td>8056E4</td>\n",
              "      <td>NaN</td>\n",
              "      <td>93.0</td>\n",
              "      <td>6.489265e+06</td>\n",
              "      <td>1.844620e+06</td>\n",
              "      <td>WESTERN</td>\n",
              "      <td>BLACK</td>\n",
              "      <td>PASSENGER CAR</td>\n",
              "      <td>2020-07-18 18:38:00</td>\n",
              "      <td>2021-07-01</td>\n",
              "    </tr>\n",
              "    <tr>\n",
              "      <th>10497673</th>\n",
              "      <td>1113539571</td>\n",
              "      <td>NaN</td>\n",
              "      <td>NaN</td>\n",
              "      <td>CA</td>\n",
              "      <td>202008.0</td>\n",
              "      <td>NaN</td>\n",
              "      <td>JEEP</td>\n",
              "      <td>PA</td>\n",
              "      <td>GY</td>\n",
              "      <td>500 BUENA VISTA VIEW</td>\n",
              "      <td>NaN</td>\n",
              "      <td>4.0</td>\n",
              "      <td>22502A</td>\n",
              "      <td>NaN</td>\n",
              "      <td>63.0</td>\n",
              "      <td>6.492589e+06</td>\n",
              "      <td>1.849576e+06</td>\n",
              "      <td>HOLLYWOOD</td>\n",
              "      <td>GREY</td>\n",
              "      <td>PASSENGER CAR</td>\n",
              "      <td>2020-07-08 14:11:00</td>\n",
              "      <td>2020-08-01</td>\n",
              "    </tr>\n",
              "    <tr>\n",
              "      <th>10497674</th>\n",
              "      <td>1124973964</td>\n",
              "      <td>NaN</td>\n",
              "      <td>NaN</td>\n",
              "      <td>CA</td>\n",
              "      <td>202012.0</td>\n",
              "      <td>NaN</td>\n",
              "      <td>NISS</td>\n",
              "      <td>PA</td>\n",
              "      <td>WH</td>\n",
              "      <td>PCH S/O SUNSET</td>\n",
              "      <td>00008</td>\n",
              "      <td>1.0</td>\n",
              "      <td>8069A</td>\n",
              "      <td>NaN</td>\n",
              "      <td>93.0</td>\n",
              "      <td>9.999900e+04</td>\n",
              "      <td>9.999900e+04</td>\n",
              "      <td>WESTERN</td>\n",
              "      <td>NaN</td>\n",
              "      <td>PASSENGER CAR</td>\n",
              "      <td>2020-07-04 21:00:00</td>\n",
              "      <td>2020-12-01</td>\n",
              "    </tr>\n",
              "    <tr>\n",
              "      <th>10497675</th>\n",
              "      <td>1124974200</td>\n",
              "      <td>NaN</td>\n",
              "      <td>NaN</td>\n",
              "      <td>CA</td>\n",
              "      <td>202009.0</td>\n",
              "      <td>NaN</td>\n",
              "      <td>TOYO</td>\n",
              "      <td>PA</td>\n",
              "      <td>BL</td>\n",
              "      <td>PCH/PORTA MARINA</td>\n",
              "      <td>8A1</td>\n",
              "      <td>1.0</td>\n",
              "      <td>8069A</td>\n",
              "      <td>NaN</td>\n",
              "      <td>93.0</td>\n",
              "      <td>9.999900e+04</td>\n",
              "      <td>9.999900e+04</td>\n",
              "      <td>WESTERN</td>\n",
              "      <td>BLUE</td>\n",
              "      <td>PASSENGER CAR</td>\n",
              "      <td>2020-06-28 20:15:00</td>\n",
              "      <td>2020-09-01</td>\n",
              "    </tr>\n",
              "    <tr>\n",
              "      <th>10497676</th>\n",
              "      <td>1116202485</td>\n",
              "      <td>NaN</td>\n",
              "      <td>NaN</td>\n",
              "      <td>CA</td>\n",
              "      <td>202006.0</td>\n",
              "      <td>NaN</td>\n",
              "      <td>ALFA</td>\n",
              "      <td>PA</td>\n",
              "      <td>RE</td>\n",
              "      <td>PCH/TEMESCAL</td>\n",
              "      <td>8Z11</td>\n",
              "      <td>1.0</td>\n",
              "      <td>8069A</td>\n",
              "      <td>NaN</td>\n",
              "      <td>93.0</td>\n",
              "      <td>9.999900e+04</td>\n",
              "      <td>9.999900e+04</td>\n",
              "      <td>WESTERN</td>\n",
              "      <td>NaN</td>\n",
              "      <td>PASSENGER CAR</td>\n",
              "      <td>2020-07-05 01:25:00</td>\n",
              "      <td>2020-06-01</td>\n",
              "    </tr>\n",
              "  </tbody>\n",
              "</table>\n",
              "<p>8883960 rows × 22 columns</p>\n",
              "</div>"
            ],
            "text/plain": [
              "         Ticket number Meter Id  ...            Datetime Plate Expiry Date Parsed\n",
              "0           1103341116      NaN  ... 2015-12-21 12:51:00               2003-04-01\n",
              "1           1103700150      NaN  ... 2015-12-21 14:35:00               2015-12-01\n",
              "2           1104803000      NaN  ... 2015-12-21 20:55:00               2015-03-01\n",
              "5           1106226590      NaN  ... 2015-09-15 00:19:00               2015-07-01\n",
              "6           1106500452      NaN  ... 2015-12-17 17:10:00               2016-05-01\n",
              "...                ...      ...  ...                 ...                      ...\n",
              "10497668    1121859325      NaN  ... 2020-07-18 18:38:00               2021-07-01\n",
              "10497673    1113539571      NaN  ... 2020-07-08 14:11:00               2020-08-01\n",
              "10497674    1124973964      NaN  ... 2020-07-04 21:00:00               2020-12-01\n",
              "10497675    1124974200      NaN  ... 2020-06-28 20:15:00               2020-09-01\n",
              "10497676    1116202485      NaN  ... 2020-07-05 01:25:00               2020-06-01\n",
              "\n",
              "[8883960 rows x 22 columns]"
            ]
          },
          "metadata": {
            "tags": []
          },
          "execution_count": 10
        }
      ]
    },
    {
      "cell_type": "code",
      "metadata": {
        "id": "rc2r7RWZ0TWh",
        "colab_type": "code",
        "colab": {}
      },
      "source": [
        "df['days_expired'] = (df.Datetime - df['Plate Expiry Date Parsed']).dt.days\n",
        "expiry_viol_table = pd.concat([df.loc[df['days_expired'] > 0, 'Violation Description'].value_counts().reset_index()[:10],\n",
        "          df['Violation Description'].value_counts().reset_index()[:10]], axis=1)\n",
        "expiry_viol_table.columns = ['positive_days_expired_viol', 'violation_count', 'all', 'violation_count']"
      ],
      "execution_count": null,
      "outputs": []
    },
    {
      "cell_type": "code",
      "metadata": {
        "id": "9_BAMKrkzKVt",
        "colab_type": "code",
        "colab": {
          "base_uri": "https://localhost:8080/",
          "height": 363
        },
        "outputId": "54a0b702-3660-452e-fe58-f2717464c6d2"
      },
      "source": [
        "# Table of top 10 violations for subset of data with expired car registration vs\n",
        "# Top 10 of all citation violations\n",
        "expiry_viol_table"
      ],
      "execution_count": null,
      "outputs": [
        {
          "output_type": "execute_result",
          "data": {
            "text/html": [
              "<div>\n",
              "<style scoped>\n",
              "    .dataframe tbody tr th:only-of-type {\n",
              "        vertical-align: middle;\n",
              "    }\n",
              "\n",
              "    .dataframe tbody tr th {\n",
              "        vertical-align: top;\n",
              "    }\n",
              "\n",
              "    .dataframe thead th {\n",
              "        text-align: right;\n",
              "    }\n",
              "</style>\n",
              "<table border=\"1\" class=\"dataframe\">\n",
              "  <thead>\n",
              "    <tr style=\"text-align: right;\">\n",
              "      <th></th>\n",
              "      <th>positive_days_expired_viol</th>\n",
              "      <th>violation_count</th>\n",
              "      <th>all</th>\n",
              "      <th>violation_count</th>\n",
              "    </tr>\n",
              "  </thead>\n",
              "  <tbody>\n",
              "    <tr>\n",
              "      <th>0</th>\n",
              "      <td>DISPLAY OF TABS</td>\n",
              "      <td>549456</td>\n",
              "      <td>NO PARK/STREET CLEAN</td>\n",
              "      <td>2958564</td>\n",
              "    </tr>\n",
              "    <tr>\n",
              "      <th>1</th>\n",
              "      <td>NO PARK/STREET CLEAN</td>\n",
              "      <td>430457</td>\n",
              "      <td>METER EXP.</td>\n",
              "      <td>1841748</td>\n",
              "    </tr>\n",
              "    <tr>\n",
              "      <th>2</th>\n",
              "      <td>METER EXP.</td>\n",
              "      <td>227658</td>\n",
              "      <td>RED ZONE</td>\n",
              "      <td>831044</td>\n",
              "    </tr>\n",
              "    <tr>\n",
              "      <th>3</th>\n",
              "      <td>RED ZONE</td>\n",
              "      <td>102158</td>\n",
              "      <td>PREFERENTIAL PARKING</td>\n",
              "      <td>730678</td>\n",
              "    </tr>\n",
              "    <tr>\n",
              "      <th>4</th>\n",
              "      <td>NO EVIDENCE OF REG</td>\n",
              "      <td>96167</td>\n",
              "      <td>DISPLAY OF TABS</td>\n",
              "      <td>623349</td>\n",
              "    </tr>\n",
              "    <tr>\n",
              "      <th>5</th>\n",
              "      <td>PREFERENTIAL PARKING</td>\n",
              "      <td>90166</td>\n",
              "      <td>NO PARKING</td>\n",
              "      <td>464176</td>\n",
              "    </tr>\n",
              "    <tr>\n",
              "      <th>6</th>\n",
              "      <td>NO PARKING</td>\n",
              "      <td>60669</td>\n",
              "      <td>DISPLAY OF PLATES</td>\n",
              "      <td>290293</td>\n",
              "    </tr>\n",
              "    <tr>\n",
              "      <th>7</th>\n",
              "      <td>DISPLAY OF PLATES</td>\n",
              "      <td>37397</td>\n",
              "      <td>WHITE ZONE</td>\n",
              "      <td>229198</td>\n",
              "    </tr>\n",
              "    <tr>\n",
              "      <th>8</th>\n",
              "      <td>EXCEED 72HRS-ST</td>\n",
              "      <td>30100</td>\n",
              "      <td>PARKED OVER TIME LIMIT</td>\n",
              "      <td>204248</td>\n",
              "    </tr>\n",
              "    <tr>\n",
              "      <th>9</th>\n",
              "      <td>PARKED OVER TIME LIMIT</td>\n",
              "      <td>27660</td>\n",
              "      <td>NO STOP/STANDING</td>\n",
              "      <td>186972</td>\n",
              "    </tr>\n",
              "  </tbody>\n",
              "</table>\n",
              "</div>"
            ],
            "text/plain": [
              "  positive_days_expired_viol  ...  violation_count\n",
              "0            DISPLAY OF TABS  ...          2958564\n",
              "1       NO PARK/STREET CLEAN  ...          1841748\n",
              "2                 METER EXP.  ...           831044\n",
              "3                   RED ZONE  ...           730678\n",
              "4         NO EVIDENCE OF REG  ...           623349\n",
              "5       PREFERENTIAL PARKING  ...           464176\n",
              "6                 NO PARKING  ...           290293\n",
              "7          DISPLAY OF PLATES  ...           229198\n",
              "8            EXCEED 72HRS-ST  ...           204248\n",
              "9     PARKED OVER TIME LIMIT  ...           186972\n",
              "\n",
              "[10 rows x 4 columns]"
            ]
          },
          "metadata": {
            "tags": []
          },
          "execution_count": 104
        }
      ]
    },
    {
      "cell_type": "markdown",
      "metadata": {
        "id": "zwIPPj8u5gpx",
        "colab_type": "text"
      },
      "source": [
        "In the table above, it would seem that if the difference between the citation date and the expiry date was positive, it would more likely be cited as a \"DISPLAY OF TABS\" violation. This could also explain why there are so many empty entries--officers are more likely to input this if their registration is expired."
      ]
    },
    {
      "cell_type": "code",
      "metadata": {
        "id": "Ko2p5Ls9xrMF",
        "colab_type": "code",
        "colab": {
          "base_uri": "https://localhost:8080/",
          "height": 260
        },
        "outputId": "94db4f62-15e3-42a3-8f73-d0404a1b037b"
      },
      "source": [
        "df.VIN.unique()[:100]"
      ],
      "execution_count": null,
      "outputs": [
        {
          "output_type": "execute_result",
          "data": {
            "text/plain": [
              "array([nan, '3225', '1068', '4286', '4683', '6904', '8788', '1856',\n",
              "       '5884', '3427', '1655', '3266', '3490', '3980', '0277', '2850',\n",
              "       '9233', '3019', '1153', '7978', '4608', '2807', '3687', '8628',\n",
              "       '2016', '8835', '4889', '7344', '5302', '5534', '7323', '4434',\n",
              "       '3N1BB41D5XL003388', '4151', '3931', '0645', '2674', '3391',\n",
              "       '6412', '6768', '4871', '9864', '6333', '3757', '2785', '4253',\n",
              "       '9315', '5364', '0962', '9207', '6086', '1598', '0285', '9446',\n",
              "       '5090', '5261', '6638', '1376', '9698', '3554', '8784', '2917',\n",
              "       '7981', '5512', '9995', '0156', '1HGCR2F57EA225553', '8917',\n",
              "       '7320', '3949', '5028', '2567', '3928', '0365', '4008', '8096',\n",
              "       '8619', '7466', '8001', '1048', '2433', '6969', '6523', '6073',\n",
              "       'ZAMCE39A760021282', '3278', '7573', '8326', '1270', '0468',\n",
              "       '7995', 'WBA3C1C9FK118236', '1254', '8908', '7187', '1348', '7760',\n",
              "       '1010', '4498', '5620'], dtype=object)"
            ]
          },
          "metadata": {
            "tags": []
          },
          "execution_count": 36
        }
      ]
    },
    {
      "cell_type": "code",
      "metadata": {
        "id": "NsUFNxFr0ced",
        "colab_type": "code",
        "colab": {
          "base_uri": "https://localhost:8080/",
          "height": 225
        },
        "outputId": "5c2dd670-7d67-481b-9ee4-a37dfe63e032"
      },
      "source": [
        "df.loc[df.VIN.str.len() > 4, 'VIN']"
      ],
      "execution_count": null,
      "outputs": [
        {
          "output_type": "execute_result",
          "data": {
            "text/plain": [
              "888200    3N1BB41D5XL003388\n",
              "888294    1HGCR2F57EA225553\n",
              "888318    ZAMCE39A760021282\n",
              "888325     WBA3C1C9FK118236\n",
              "888382    JTDKN3DUID1650769\n",
              "                ...        \n",
              "925925              COVERED\n",
              "925927              COVERED\n",
              "925932              COVERED\n",
              "925933    JTHBW1GGXF2080614\n",
              "925947    1N4AL3AP2EN224587\n",
              "Name: VIN, Length: 3558, dtype: object"
            ]
          },
          "metadata": {
            "tags": []
          },
          "execution_count": 39
        }
      ]
    },
    {
      "cell_type": "code",
      "metadata": {
        "id": "ddtGFHkx0tY2",
        "colab_type": "code",
        "colab": {
          "base_uri": "https://localhost:8080/",
          "height": 170
        },
        "outputId": "80031ab2-c41f-48ba-b28e-e5ddf1416e7b"
      },
      "source": [
        "df[df.VIN == '1N4AL3AP2EN224587']"
      ],
      "execution_count": null,
      "outputs": [
        {
          "output_type": "execute_result",
          "data": {
            "text/html": [
              "<div>\n",
              "<style scoped>\n",
              "    .dataframe tbody tr th:only-of-type {\n",
              "        vertical-align: middle;\n",
              "    }\n",
              "\n",
              "    .dataframe tbody tr th {\n",
              "        vertical-align: top;\n",
              "    }\n",
              "\n",
              "    .dataframe thead th {\n",
              "        text-align: right;\n",
              "    }\n",
              "</style>\n",
              "<table border=\"1\" class=\"dataframe\">\n",
              "  <thead>\n",
              "    <tr style=\"text-align: right;\">\n",
              "      <th></th>\n",
              "      <th>Ticket number</th>\n",
              "      <th>Meter Id</th>\n",
              "      <th>Marked Time</th>\n",
              "      <th>RP State Plate</th>\n",
              "      <th>Plate Expiry Date</th>\n",
              "      <th>VIN</th>\n",
              "      <th>Make</th>\n",
              "      <th>Body Style</th>\n",
              "      <th>Color</th>\n",
              "      <th>Location</th>\n",
              "      <th>Route</th>\n",
              "      <th>Agency</th>\n",
              "      <th>Violation code</th>\n",
              "      <th>Violation Description</th>\n",
              "      <th>Fine amount</th>\n",
              "      <th>Latitude</th>\n",
              "      <th>Longitude</th>\n",
              "      <th>Agency Description</th>\n",
              "      <th>Color Description</th>\n",
              "      <th>Body Style Description</th>\n",
              "      <th>Datetime</th>\n",
              "      <th>Plate Expiry Date Parsed</th>\n",
              "    </tr>\n",
              "  </thead>\n",
              "  <tbody>\n",
              "    <tr>\n",
              "      <th>925947</th>\n",
              "      <td>4247320195</td>\n",
              "      <td>CB3067A</td>\n",
              "      <td>NaN</td>\n",
              "      <td>CA</td>\n",
              "      <td>NaN</td>\n",
              "      <td>1N4AL3AP2EN224587</td>\n",
              "      <td>NISS</td>\n",
              "      <td>PA</td>\n",
              "      <td>GY</td>\n",
              "      <td>355 4TH ST E</td>\n",
              "      <td>00667</td>\n",
              "      <td>56.0</td>\n",
              "      <td>88.13B+</td>\n",
              "      <td>METER EXP.</td>\n",
              "      <td>63.0</td>\n",
              "      <td>6485950.2</td>\n",
              "      <td>1840638.1</td>\n",
              "      <td>NaN</td>\n",
              "      <td>NaN</td>\n",
              "      <td>NaN</td>\n",
              "      <td>2014-11-03 11:10:00</td>\n",
              "      <td>NaT</td>\n",
              "    </tr>\n",
              "  </tbody>\n",
              "</table>\n",
              "</div>"
            ],
            "text/plain": [
              "       Ticket number Meter Id  ...            Datetime Plate Expiry Date Parsed\n",
              "925947    4247320195  CB3067A  ... 2014-11-03 11:10:00                      NaT\n",
              "\n",
              "[1 rows x 22 columns]"
            ]
          },
          "metadata": {
            "tags": []
          },
          "execution_count": 34
        }
      ]
    },
    {
      "cell_type": "code",
      "metadata": {
        "id": "iFibb7Vj0sMb",
        "colab_type": "code",
        "colab": {
          "base_uri": "https://localhost:8080/",
          "height": 52
        },
        "outputId": "90699ebe-ea05-4fe5-fcea-1626698296bd"
      },
      "source": [
        "df.loc[df.VIN.str.len() > 4, 'Datetime'].dt.year.value_counts()"
      ],
      "execution_count": null,
      "outputs": [
        {
          "output_type": "execute_result",
          "data": {
            "text/plain": [
              "2014    3558\n",
              "Name: Datetime, dtype: int64"
            ]
          },
          "metadata": {
            "tags": []
          },
          "execution_count": 28
        }
      ]
    },
    {
      "cell_type": "markdown",
      "metadata": {
        "id": "7vc-Arpm2YtN",
        "colab_type": "text"
      },
      "source": [
        "Most of these VIN records are missing but of the ones that aren't missing, they consist of 4 numbers. Of the ones that are not 4 numbers, there are some that say \"COVERED\", or actual plausible VIN numbers. Web VIN lookup verifies that this VIN number seems to be correct. In fact, this car was cited the same year it was manufactured. Looking at the dates where we have full VIN numbers, which are all in 2014. VIN numbers are highly identifying information. It is possible that the process of deidentification did not properly take place in 2014."
      ]
    },
    {
      "cell_type": "code",
      "metadata": {
        "id": "3Bsf_w3T69pf",
        "colab_type": "code",
        "colab": {
          "base_uri": "https://localhost:8080/",
          "height": 903
        },
        "outputId": "6c9c83b7-6bba-41f7-a5d4-f303b5a0edfb"
      },
      "source": [
        "df.Make.value_counts()[:50]"
      ],
      "execution_count": null,
      "outputs": [
        {
          "output_type": "execute_result",
          "data": {
            "text/plain": [
              "TOYT    1733082\n",
              "HOND    1184059\n",
              "FORD     909365\n",
              "NISS     754548\n",
              "CHEV     716004\n",
              "BMW      480513\n",
              "MERZ     429649\n",
              "VOLK     353890\n",
              "HYUN     323880\n",
              "DODG     310313\n",
              "LEXS     297464\n",
              "KIA      253014\n",
              "JEEP     247563\n",
              "AUDI     204226\n",
              "MAZD     192762\n",
              "OTHR     173227\n",
              "GMC      150182\n",
              "INFI     137697\n",
              "CHRY     133251\n",
              "ACUR     124777\n",
              "SUBA     118489\n",
              "VOLV      98955\n",
              "TOYO      95343\n",
              "MITS      87820\n",
              "CADI      82383\n",
              "MNNI      73888\n",
              "LNDR      61881\n",
              "PORS      54621\n",
              "UNK       51027\n",
              "FRHT      49100\n",
              "BUIC      48745\n",
              "LINC      44719\n",
              "PONT      44560\n",
              "GRUM      43213\n",
              "STRN      41469\n",
              "FIAT      38684\n",
              "TSMR      33626\n",
              "JAGU      32063\n",
              "MERC      29306\n",
              "RROV      21112\n",
              "ISU       20761\n",
              "INTL      17683\n",
              "SUZI      14056\n",
              "SAA       12913\n",
              "OLDS      12154\n",
              "LEXU      11397\n",
              "MASE      11091\n",
              "PTRB       7748\n",
              "PLYM       7075\n",
              "KW         6436\n",
              "Name: Make, dtype: int64"
            ]
          },
          "metadata": {
            "tags": []
          },
          "execution_count": 106
        }
      ]
    },
    {
      "cell_type": "code",
      "metadata": {
        "id": "76vpiT3cE1tN",
        "colab_type": "code",
        "colab": {
          "base_uri": "https://localhost:8080/",
          "height": 399
        },
        "outputId": "e9f84df2-9051-48b9-8f14-ecdc37069bd2"
      },
      "source": [
        "df.groupby('Make')['Fine amount'].agg('sum').sort_values(ascending=False)[:20]"
      ],
      "execution_count": 33,
      "outputs": [
        {
          "output_type": "execute_result",
          "data": {
            "text/plain": [
              "Make\n",
              "TOYT    122630931.0\n",
              "HOND     83289127.0\n",
              "FORD     64353367.0\n",
              "NISS     54010869.0\n",
              "CHEV     50937663.0\n",
              "BMW      31524088.0\n",
              "MERZ     29142468.0\n",
              "VOLK     23961292.0\n",
              "HYUN     22999314.0\n",
              "DODG     21996042.0\n",
              "LEXS     20455507.0\n",
              "KIA      18316834.0\n",
              "JEEP     16990824.0\n",
              "OTHR     13664605.0\n",
              "AUDI     13588335.0\n",
              "MAZD     13198179.0\n",
              "GMC      11150287.0\n",
              "INFI      9537313.0\n",
              "CHRY      9490587.0\n",
              "ACUR      8543186.0\n",
              "Name: Fine amount, dtype: float64"
            ]
          },
          "metadata": {
            "tags": []
          },
          "execution_count": 33
        }
      ]
    }
  ]
}